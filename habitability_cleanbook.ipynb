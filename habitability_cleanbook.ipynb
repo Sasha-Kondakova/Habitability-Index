{
 "cells": [
  {
   "cell_type": "markdown",
   "metadata": {},
   "source": [
    "Index-Building:\n",
    "The factors used include the following:\n",
    "- planet mass (Mjup)\n",
    "- planet radius (Rjup)\n",
    "- planet temperature (K)\n",
    "- planet density CALCULATE\n",
    "- radiation intensity (W/m^2) CALCULATE\n",
    "- star distance (pc)\n",
    "- AND/OR HZ measurement CALCULATE\n",
    "- star metallicity ?? fraction\n",
    "- star mass (Msun)\n",
    "- sun radius (Rsun)\n",
    "- star age ?? Gy\n",
    "- star effective temperature (K)\n",
    "\n",
    "The index will consist of the following:\n",
    "- planet mass +\n",
    "planet radius +\n",
    "planet temperature +\n",
    "star distance (HZ) + \n",
    "radiation intensity\n",
    "\n",
    "Weighing can be determined in 1 of 2 ways:\n",
    "- use a correlation regression as done in Cobb Douglas\n",
    "- use difference from \"ideal\" Earth on a normal distribution to determine the importance of outliers"
   ]
  },
  {
   "cell_type": "markdown",
   "metadata": {},
   "source": [
    "1. Import data and packages"
   ]
  },
  {
   "cell_type": "code",
   "execution_count": 1,
   "metadata": {},
   "outputs": [],
   "source": [
    "# import packages\n",
    "import numpy as np\n",
    "import pandas as pd\n",
    "import math \n",
    "from math import pi\n",
    "import matplotlib.pyplot as plt\n",
    "\n",
    "\n",
    "# import data\n",
    "data = pd.read_csv('C:/Users/21sko/Desktop/dissertation/data/exo_data.csv')\n",
    "\n",
    "#display data\n",
    "# print(data)"
   ]
  },
  {
   "cell_type": "markdown",
   "metadata": {},
   "source": [
    "2. Calculate density"
   ]
  },
  {
   "cell_type": "markdown",
   "metadata": {},
   "source": [
    "2.1 Convert: \n",
    "- M(jup) to M(earth)\n",
    "- R(jup) to R(earth)"
   ]
  },
  {
   "cell_type": "code",
   "execution_count": 2,
   "metadata": {},
   "outputs": [],
   "source": [
    "# M(jup) to M(earth)\n",
    "def mjup_to_mearth(planet_mass_mjup):\n",
    "    mass_mearth = planet_mass_mjup * 317.8 \n",
    "\n",
    "    return mass_mearth\n",
    "\n",
    "data['planet_mass_mearth'] = data.apply(lambda row: mjup_to_mearth(row['planet_mass_mjup']), axis = 1)\n",
    "\n",
    "\n",
    "\n",
    "# R(jup) to R(earth)\n",
    "def rjup_to_rearth(planet_radius_rjup):\n",
    "    radius_rearth = planet_radius_rjup * 11.2\n",
    "\n",
    "    return radius_rearth\n",
    "\n",
    "data['planet_radius_rearth'] = data.apply(lambda row: rjup_to_rearth(row['planet_radius_rjup']), axis = 1)\n",
    "\n",
    "# print(data)"
   ]
  },
  {
   "cell_type": "markdown",
   "metadata": {},
   "source": [
    "2.2 Calculate volume "
   ]
  },
  {
   "cell_type": "code",
   "execution_count": 3,
   "metadata": {},
   "outputs": [],
   "source": [
    "# 4/3 * pi* r^3\n",
    "def volume_formula(planet_radius_rearth):\n",
    "    volume = (4/3) * np.pi * (planet_radius_rearth ** 3)\n",
    "\n",
    "    return volume\n",
    "\n",
    "data['planet_volume_rearth3'] = data.apply(lambda row: volume_formula(row['planet_radius_rearth']), axis = 1)\n",
    "\n",
    "# print(data)"
   ]
  },
  {
   "cell_type": "markdown",
   "metadata": {},
   "source": [
    "2.3 Calculate relative density"
   ]
  },
  {
   "cell_type": "code",
   "execution_count": 4,
   "metadata": {},
   "outputs": [],
   "source": [
    "# D = M / V\n",
    "\n",
    "def density_formula(planet_mass_mearth, planet_volume_rearth):\n",
    "    density = (planet_mass_mearth) / (planet_volume_rearth)\n",
    "    \n",
    "    return density\n",
    "\n",
    "\n",
    "data['planet_density_relative'] = data.apply(lambda row: density_formula(row['planet_mass_mearth'], row['planet_radius_rearth']), axis = 1)\n",
    "\n",
    "# print(data)"
   ]
  },
  {
   "cell_type": "markdown",
   "metadata": {},
   "source": [
    "3. Calculate Habitability Zone boundaries"
   ]
  },
  {
   "cell_type": "markdown",
   "metadata": {},
   "source": [
    "3.1 Version 1: simpler"
   ]
  },
  {
   "cell_type": "code",
   "execution_count": 5,
   "metadata": {},
   "outputs": [],
   "source": [
    "# Function to convert mass to luminosity \n",
    "def mass_to_luminosity(star_mass_msun):\n",
    "    return star_mass_msun  ** 3.6\n",
    "\n",
    "# Function to calculate habitable zone boundaries \n",
    "def calculate_habitable_zone(Luminosity_Lsun):\n",
    "    inner_boundary = np.sqrt(Luminosity_Lsun / 1.1)\n",
    "    outer_boundary = np.sqrt(Luminosity_Lsun / 0.53)\n",
    "    return inner_boundary, outer_boundary \n",
    "\n",
    "# Convert mass to luminosity \n",
    "data['Luminosity_Lsun'] = data['star_mass_msun'].apply(mass_to_luminosity) \n",
    "\n",
    "# Calculate HZ boundaries and add them to the dataframe \n",
    "data[['HZ_inner_AU_s', 'HZ_outer_AU_s']] = data['Luminosity_Lsun'].apply( lambda luminosity: calculate_habitable_zone(luminosity) ).apply(pd.Series)\n",
    "\n",
    "# Display the updated dataset to the user in a Jupyter-friendly format \n",
    "# print(data)"
   ]
  },
  {
   "cell_type": "markdown",
   "metadata": {},
   "source": [
    "3.2 Version 2: More complex"
   ]
  },
  {
   "cell_type": "code",
   "execution_count": 6,
   "metadata": {},
   "outputs": [],
   "source": [
    "# inner flux \n",
    "def s_inner(Teff):\n",
    "    s_inner = 1.296 - 2.139e-4 * Teff + 4.19e-8 * (Teff)**2\n",
    "\n",
    "    return s_inner\n",
    "\n",
    "data['Flux_inner_HZ'] = data['star_teff_K'].apply(s_inner) \n",
    "\n",
    "# outer flux\n",
    "def s_outer(Teff):\n",
    "    s_outer = 0.234 - 1.319e-5 * Teff + 6.19e-10 * (Teff)**2\n",
    "\n",
    "    return s_outer\n",
    "\n",
    "data['Flux_outer_HZ'] = data['star_teff_K'].apply(s_outer) \n",
    "\n",
    "# inner boundary\n",
    "def r_inner(Luminosity_Lsun, Flux_inner_HZ):\n",
    "    r_inner = np.sqrt(Luminosity_Lsun / Flux_inner_HZ)\n",
    "\n",
    "    return r_inner\n",
    "\n",
    "data['HZ_inner_AU_2'] = data.apply(lambda row: r_inner(row['Luminosity_Lsun'], row['Flux_inner_HZ']), axis = 1)\n",
    "\n",
    "\n",
    "# outer boundary\n",
    "def r_outer(Luminosity_Lsun, Flux_outer_HZ):\n",
    "    r_outer = np.sqrt(Luminosity_Lsun / Flux_outer_HZ)\n",
    "\n",
    "    return r_outer\n",
    "\n",
    "data['HZ_outer_AU_2'] = data.apply(lambda row: r_outer(row['Luminosity_Lsun'], row['Flux_outer_HZ']), axis = 1)\n",
    "\n",
    "# print(data)"
   ]
  },
  {
   "cell_type": "markdown",
   "metadata": {},
   "source": [
    "4. Calculate middle of HZ"
   ]
  },
  {
   "cell_type": "code",
   "execution_count": 10,
   "metadata": {},
   "outputs": [],
   "source": [
    "def HZ_middle(HZ_inner, HZ_outer):\n",
    "    HZ_middle = (HZ_inner + HZ_outer) / 2\n",
    "\n",
    "    return HZ_middle\n",
    "\n",
    "data['HZ_middle_AU_s'] = data.apply(lambda row: HZ_middle(row['HZ_inner_AU_s'], row['HZ_outer_AU_s']), axis = 1)\n",
    "data['HZ_middle_AU_2'] = data.apply(lambda row: HZ_middle(row['HZ_inner_AU_2'], row['HZ_outer_AU_2']), axis = 1)\n"
   ]
  },
  {
   "cell_type": "markdown",
   "metadata": {},
   "source": [
    "5. Radiation Intensity\n",
    "- Calculate distance from planet to star in m"
   ]
  },
  {
   "cell_type": "code",
   "execution_count": null,
   "metadata": {},
   "outputs": [],
   "source": [
    "def pc_to_m(star_distance_pc):\n",
    "    star_distance_m = star_distance_pc * 3.086e+16\n",
    "\n",
    "    return star_distance_m\n",
    "\n",
    "data['star_distance_m'] = data['star_distance_pc'].apply(pc_to_m) \n",
    "\n",
    "# print(data)\n"
   ]
  },
  {
   "cell_type": "code",
   "execution_count": 8,
   "metadata": {},
   "outputs": [],
   "source": [
    "# radiation = L / 4pi(r)^2 W/m^2\n",
    "def radiation_I(luminosity, distance_m):\n",
    "    radiation_I = luminosity / (4*np.pi*(distance_m**2))\n",
    "\n",
    "    return radiation_I\n",
    "\n",
    "\n",
    "data['radiation_I41'] = data.apply(lambda row: radiation_I(row['Luminosity_Lsun'], row['star_distance_m']), axis = 1)"
   ]
  },
  {
   "cell_type": "code",
   "execution_count": 11,
   "metadata": {},
   "outputs": [
    {
     "name": "stdout",
     "output_type": "stream",
     "text": [
      "         planet  planet_mass_mjup  planet_radius_rjup  temp_calculated_K  \\\n",
      "0  COCONUTS-2 b          6.400000            1.120000             434.00   \n",
      "1    HAT-P-18 b          0.183000            0.947000             841.00   \n",
      "2    HAT-P-42 b          0.975000            1.277000            1427.00   \n",
      "3   kappa And b         13.000000            1.200000            1850.00   \n",
      "4  TRAPPIST-1 b          0.002700            0.096890             451.55   \n",
      "5    WASP-189 b          1.990000            1.619000            3394.00   \n",
      "6         Earth          0.003146            0.089286             288.00   \n",
      "\n",
      "     star_name  star_distance_pc  star_metallicity  star_mass_msun  \\\n",
      "0  COCONUTS-2A         10.890000            0.0000           0.370   \n",
      "1     HAT-P-18        166.000000            0.1000           0.770   \n",
      "2     HAT-P-42        447.000000            0.2700           1.179   \n",
      "3    kappa And         50.000000           -0.3600           2.800   \n",
      "4   TRAPPIST-1         12.100000            0.0400           0.080   \n",
      "5     WASP-189         99.000000            0.0000           1.887   \n",
      "6          Sun          0.000005            0.0181           1.000   \n",
      "\n",
      "   star_radius_rsun  star_age_Gy  ...  HZ_inner_AU_s  HZ_outer_AU_s  \\\n",
      "0             0.388        0.475  ...       0.159245       0.229417   \n",
      "1             0.717       12.400  ...       0.595644       0.858115   \n",
      "2             1.528        5.100  ...       1.282415       1.847510   \n",
      "3             2.290        0.047  ...       6.083985       8.764891   \n",
      "4             0.117        7.600  ...       0.010113       0.014569   \n",
      "5             2.330        0.855  ...       2.990151       4.307760   \n",
      "6             1.000        4.600  ...       0.953463       1.373606   \n",
      "\n",
      "   Flux_inner_HZ  Flux_outer_HZ  HZ_inner_AU_2  HZ_outer_AU_2  \\\n",
      "0       1.053532       0.196256       0.162719       0.377009   \n",
      "1       1.248045       0.184445       0.559201       1.454619   \n",
      "2       1.449520       0.178666       1.117153       3.182030   \n",
      "3       4.274012       0.164044       3.086502      15.754479   \n",
      "4       1.023012       0.204290       0.010486       0.023466   \n",
      "5       2.264575       0.168109       2.083992       7.648808   \n",
      "6       1.458929       0.178454       0.827910       2.367213   \n",
      "\n",
      "   star_distance_m  radiation_I41  HZ_middle_AU_s  HZ_middle_AU_2  \n",
      "0     3.360654e+17   1.965481e-38        0.194331        0.269864  \n",
      "1     5.122760e+18   1.183447e-39        0.726880        1.006910  \n",
      "2     1.379442e+19   7.565418e-40        1.564963        2.149591  \n",
      "3     1.543000e+18   1.360903e-36        7.424438        9.420491  \n",
      "4     3.734060e+17   6.420244e-41        0.012341        0.016976  \n",
      "5     3.055140e+18   8.385071e-38        3.648955        4.866400  \n",
      "6     1.520287e+11   3.443015e-24        1.163534        1.597561  \n",
      "\n",
      "[7 rows x 26 columns]\n"
     ]
    }
   ],
   "source": [
    "print(data)\n",
    "\n"
   ]
  },
  {
   "cell_type": "markdown",
   "metadata": {},
   "source": [
    "5. Calculate ideal values ??"
   ]
  },
  {
   "cell_type": "markdown",
   "metadata": {},
   "source": [
    "- planet mass M(earth) == Earth\n",
    "- planet radius R(earth) == Earth\n",
    "- planet temperature (K) == Earth\n",
    "- planet density == Earth\n",
    "- radiation intensity (W/m^2) == Earth ?\n",
    "- HZ measurement == normal distribution, y = middle of HZ; non ideal = | 2sigma | where 1.5 sigma == boundary \n",
    "- star age ?? Gy"
   ]
  },
  {
   "cell_type": "markdown",
   "metadata": {},
   "source": [
    "5.1 HZ normal distribution"
   ]
  },
  {
   "cell_type": "code",
   "execution_count": 28,
   "metadata": {},
   "outputs": [
    {
     "name": "stdout",
     "output_type": "stream",
     "text": [
      "         planet  planet_mass_mjup  planet_radius_rjup  temp_calculated_K  \\\n",
      "0  COCONUTS-2 b          6.400000            1.120000             434.00   \n",
      "1    HAT-P-18 b          0.183000            0.947000             841.00   \n",
      "2    HAT-P-42 b          0.975000            1.277000            1427.00   \n",
      "3   kappa And b         13.000000            1.200000            1850.00   \n",
      "4  TRAPPIST-1 b          0.002700            0.096890             451.55   \n",
      "5    WASP-189 b          1.990000            1.619000            3394.00   \n",
      "6         Earth          0.003146            0.089286             288.00   \n",
      "\n",
      "     star_name  star_distance_pc  star_metallicity  star_mass_msun  \\\n",
      "0  COCONUTS-2A         10.890000            0.0000           0.370   \n",
      "1     HAT-P-18        166.000000            0.1000           0.770   \n",
      "2     HAT-P-42        447.000000            0.2700           1.179   \n",
      "3    kappa And         50.000000           -0.3600           2.800   \n",
      "4   TRAPPIST-1         12.100000            0.0400           0.080   \n",
      "5     WASP-189         99.000000            0.0000           1.887   \n",
      "6          Sun          0.000005            0.0181           1.000   \n",
      "\n",
      "   star_radius_rsun  star_age_Gy  ...  HZ_inner_AU_2  HZ_outer_AU_2  \\\n",
      "0             0.388        0.475  ...       0.162719       0.377009   \n",
      "1             0.717       12.400  ...       0.559201       1.454619   \n",
      "2             1.528        5.100  ...       1.117153       3.182030   \n",
      "3             2.290        0.047  ...       3.086502      15.754479   \n",
      "4             0.117        7.600  ...       0.010486       0.023466   \n",
      "5             2.330        0.855  ...       2.083992       7.648808   \n",
      "6             1.000        4.600  ...       0.827910       2.367213   \n",
      "\n",
      "   star_distance_m  radiation_I41  HZ_middle_AU_s  HZ_middle_AU_2  \\\n",
      "0     3.360654e+17   1.965481e-38        0.194331        0.269864   \n",
      "1     5.122760e+18   1.183447e-39        0.726880        1.006910   \n",
      "2     1.379442e+19   7.565418e-40        1.564963        2.149591   \n",
      "3     1.543000e+18   1.360903e-36        7.424438        9.420491   \n",
      "4     3.734060e+17   6.420244e-41        0.012341        0.016976   \n",
      "5     3.055140e+18   8.385071e-38        3.648955        4.866400   \n",
      "6     1.520287e+11   3.443015e-24        1.163534        1.597561   \n",
      "\n",
      "   Lower_NotIdeal  Higher_NotIdeal  LowerBoundValue  UpperBoundValue  \n",
      "0             NaN              NaN         0.147550         0.241112  \n",
      "1             NaN              NaN         0.551899         0.901860  \n",
      "2             NaN              NaN         1.188232         1.941693  \n",
      "3             NaN              NaN         5.637167         9.211709  \n",
      "4             NaN              NaN         0.009370         0.015311  \n",
      "5             NaN              NaN         2.770549         4.527361  \n",
      "6             NaN              NaN         0.883439         1.443629  \n",
      "\n",
      "[7 rows x 30 columns]\n"
     ]
    }
   ],
   "source": [
    "def HZ_normal_curve(data):\n",
    "\n",
    "    lower_bound_values = []\n",
    "    upper_bound_values = []\n",
    "\n",
    "    for index, row in data.iterrows():\n",
    "        midpoint = row[\"HZ_middle_AU_s\"]\n",
    "        outer_boundary = row[\"HZ_outer_AU_s\"]\n",
    "\n",
    "        # Calculate bounds for values exactly 2 std deviations away from the mean\n",
    "        lower_bound = midpoint - 2 * ((outer_boundary - midpoint) / 1.5)\n",
    "        upper_bound = midpoint + 2 * ((outer_boundary - midpoint) / 1.5)\n",
    "        \n",
    "        # Append values to lists\n",
    "        lower_bound_values.append(lower_bound)\n",
    "        upper_bound_values.append(upper_bound)\n",
    "    \n",
    "    # Add new columns to DataFrame\n",
    "    data['LowerBoundValue'] = lower_bound_values\n",
    "    data['UpperBoundValue'] = upper_bound_values\n",
    "    \n",
    "    return data\n",
    "\n",
    "# Apply the function to your dataset\n",
    "updated_data = HZ_normal_curve(data)\n",
    "\n",
    "# Display the updated dataset with specific values at lower and upper bounds recorded\n",
    "print(updated_data)\n",
    "\n",
    "\n"
   ]
  }
 ],
 "metadata": {
  "kernelspec": {
   "display_name": "sciEnv",
   "language": "python",
   "name": "python3"
  },
  "language_info": {
   "codemirror_mode": {
    "name": "ipython",
    "version": 3
   },
   "file_extension": ".py",
   "mimetype": "text/x-python",
   "name": "python",
   "nbconvert_exporter": "python",
   "pygments_lexer": "ipython3",
   "version": "3.11.8"
  }
 },
 "nbformat": 4,
 "nbformat_minor": 2
}
