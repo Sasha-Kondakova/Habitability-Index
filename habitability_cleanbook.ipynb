{
 "cells": [
  {
   "cell_type": "markdown",
   "metadata": {},
   "source": [
    "Index-Building:\n",
    "The factors used include the following:\n",
    "- planet mass (Mjup)\n",
    "- planet radius (Rjup)\n",
    "- planet temperature (K)\n",
    "- planet density CALCULATE\n",
    "- radiation intensity (W/m^2) CALCULATE\n",
    "- star distance (pc)\n",
    "- AND/OR HZ measurement CALCULATE\n",
    "- star metallicity ?? fraction\n",
    "- star mass (Msun)\n",
    "- sun radius (Rsun)\n",
    "- star age ?? Gy\n",
    "- star effective temperature (K)\n",
    "- interactions?\n",
    "\n",
    "The index will consist of the following:\n",
    "- planet mass +\n",
    "planet radius +\n",
    "planet temperature +\n",
    "star distance (HZ) + \n",
    "radiation intensity\n",
    "\n",
    "Weighing can be determined in 1 of 2 ways:\n",
    "- use a correlation regression as done in Cobb Douglas\n",
    "- use difference from \"ideal\" Earth on a normal distribution to determine the importance of outliers"
   ]
  },
  {
   "cell_type": "markdown",
   "metadata": {},
   "source": [
    "1. Import data and packages"
   ]
  },
  {
   "cell_type": "code",
   "execution_count": 1,
   "metadata": {},
   "outputs": [],
   "source": [
    "# import packages\n",
    "import numpy as np\n",
    "import pandas as pd\n",
    "import math \n",
    "from math import pi\n",
    "import matplotlib.pyplot as plt\n",
    "pd.set_option('display.max_columns', None)  # None means no limit\n",
    "pd.set_option('display.max_rows', None) \n",
    "\n",
    "\n",
    "# import data\n",
    "data = pd.read_csv('C:/Users/21sko/Desktop/dissertation/data/exo_data.csv')\n",
    "\n",
    "#display data\n",
    "# print(data)"
   ]
  },
  {
   "cell_type": "markdown",
   "metadata": {},
   "source": [
    "2. Calculate density"
   ]
  },
  {
   "cell_type": "markdown",
   "metadata": {},
   "source": [
    "2.1 Convert: \n",
    "- M(jup) to M(earth)\n",
    "- R(jup) to R(earth)"
   ]
  },
  {
   "cell_type": "code",
   "execution_count": 2,
   "metadata": {},
   "outputs": [],
   "source": [
    "# M(jup) to M(earth)\n",
    "def mjup_to_mearth(planet_mass_mjup):\n",
    "    mass_mearth = planet_mass_mjup * 317.8 \n",
    "\n",
    "    return mass_mearth\n",
    "\n",
    "data['planet_mass_mearth'] = data.apply(lambda row: mjup_to_mearth(row['planet_mass_mjup']), axis = 1)\n",
    "\n",
    "\n",
    "\n",
    "# R(jup) to R(earth)\n",
    "def rjup_to_rearth(planet_radius_rjup):\n",
    "    radius_rearth = planet_radius_rjup * 11.2\n",
    "\n",
    "    return radius_rearth\n",
    "\n",
    "data['planet_radius_rearth'] = data.apply(lambda row: rjup_to_rearth(row['planet_radius_rjup']), axis = 1)\n",
    "\n",
    "# print(data)"
   ]
  },
  {
   "cell_type": "markdown",
   "metadata": {},
   "source": [
    "2.2 Calculate volume "
   ]
  },
  {
   "cell_type": "code",
   "execution_count": 3,
   "metadata": {},
   "outputs": [],
   "source": [
    "# 4/3 * pi* r^3\n",
    "def volume_formula(planet_radius_rearth):\n",
    "    volume = (4/3) * np.pi * (planet_radius_rearth ** 3)\n",
    "\n",
    "    return volume\n",
    "\n",
    "data['planet_volume_rearth3'] = data.apply(lambda row: volume_formula(row['planet_radius_rearth']), axis = 1)\n",
    "\n",
    "# print(data)"
   ]
  },
  {
   "cell_type": "markdown",
   "metadata": {},
   "source": [
    "2.3 Calculate relative density"
   ]
  },
  {
   "cell_type": "code",
   "execution_count": 4,
   "metadata": {},
   "outputs": [],
   "source": [
    "# D = M / V\n",
    "\n",
    "def density_formula(planet_mass_mearth, planet_volume_rearth):\n",
    "    density = (planet_mass_mearth) / (planet_volume_rearth)\n",
    "    \n",
    "    return density\n",
    "\n",
    "\n",
    "data['planet_density_relative'] = data.apply(lambda row: density_formula(row['planet_mass_mearth'], row['planet_radius_rearth']), axis = 1)\n",
    "\n",
    "# print(data)"
   ]
  },
  {
   "cell_type": "code",
   "execution_count": null,
   "metadata": {},
   "outputs": [],
   "source": [
    "print(data)"
   ]
  },
  {
   "cell_type": "markdown",
   "metadata": {},
   "source": [
    "2.4 Calculate absolute density = not sure if density is relevant due to a large variety of densities "
   ]
  },
  {
   "cell_type": "code",
   "execution_count": null,
   "metadata": {},
   "outputs": [],
   "source": [
    "# 1 D(earth) = 5.52 g/cm^3\n",
    "\n",
    "def density_relative_to_empirical(planet_density_relative):\n",
    "    planet_density_empirical = planet_density_relative * 5.52\n",
    "    return planet_density_empirical\n",
    "\n",
    "data['planet_density_empirical'] = data['planet_density_relative'].apply(density_relative_to_empirical) \n",
    "\n",
    "print(data)"
   ]
  },
  {
   "cell_type": "markdown",
   "metadata": {},
   "source": [
    "3. Calculate Habitability Zone boundaries"
   ]
  },
  {
   "cell_type": "markdown",
   "metadata": {},
   "source": [
    "3.1 Version 1: simpler"
   ]
  },
  {
   "cell_type": "code",
   "execution_count": null,
   "metadata": {},
   "outputs": [],
   "source": [
    "# Function to convert mass to luminosity \n",
    "def mass_to_luminosity(star_mass_msun):\n",
    "    return star_mass_msun  ** 3.6\n",
    "\n",
    "# Function to calculate habitable zone boundaries \n",
    "def calculate_habitable_zone(Luminosity_Lsun):\n",
    "    inner_boundary = np.sqrt(Luminosity_Lsun / 1.1)\n",
    "    outer_boundary = np.sqrt(Luminosity_Lsun / 0.53)\n",
    "    return inner_boundary, outer_boundary \n",
    "\n",
    "# Convert mass to luminosity \n",
    "data['Luminosity_Lsun'] = data['star_mass_msun'].apply(mass_to_luminosity) \n",
    "\n",
    "# Calculate HZ boundaries and add them to the dataframe \n",
    "data[['HZ_inner_AU_s', 'HZ_outer_AU_s']] = data['Luminosity_Lsun'].apply( lambda luminosity: calculate_habitable_zone(luminosity) ).apply(pd.Series)\n",
    "\n",
    "# Display the updated dataset to the user in a Jupyter-friendly format \n",
    "print(data)"
   ]
  },
  {
   "cell_type": "markdown",
   "metadata": {},
   "source": [
    "3.2 Version 2: More complex"
   ]
  },
  {
   "cell_type": "code",
   "execution_count": 6,
   "metadata": {},
   "outputs": [],
   "source": [
    "# Function to convert mass to luminosity \n",
    "def mass_to_luminosity(star_mass_msun):\n",
    "    return star_mass_msun  ** 3.6\n",
    "\n",
    "# Function to calculate habitable zone boundaries \n",
    "def calculate_habitable_zone(Luminosity_Lsun):\n",
    "    inner_boundary = np.sqrt(Luminosity_Lsun / 1.1)\n",
    "    outer_boundary = np.sqrt(Luminosity_Lsun / 0.53)\n",
    "    return inner_boundary, outer_boundary \n",
    "\n",
    "# Convert mass to luminosity \n",
    "data['Luminosity_Lsun'] = data['star_mass_msun'].apply(mass_to_luminosity) \n",
    "\n",
    "\n",
    "\n",
    "# inner flux \n",
    "def s_inner(Teff):\n",
    "    s_inner = 1.296 - 2.139e-4 * Teff + 4.19e-8 * (Teff)**2\n",
    "\n",
    "    return s_inner\n",
    "\n",
    "data['Flux_inner_HZ'] = data['star_teff_K'].apply(s_inner) \n",
    "\n",
    "# outer flux\n",
    "def s_outer(Teff):\n",
    "    s_outer = 0.234 - 1.319e-5 * Teff + 6.19e-10 * (Teff)**2\n",
    "\n",
    "    return s_outer\n",
    "\n",
    "data['Flux_outer_HZ'] = data['star_teff_K'].apply(s_outer) \n",
    "\n",
    "# inner boundary\n",
    "def r_inner(Luminosity_Lsun, Flux_inner_HZ):\n",
    "    r_inner = np.sqrt(Luminosity_Lsun / Flux_inner_HZ)\n",
    "\n",
    "    return r_inner\n",
    "\n",
    "data['HZ_inner_AU_2'] = data.apply(lambda row: r_inner(row['Luminosity_Lsun'], row['Flux_inner_HZ']), axis = 1)\n",
    "\n",
    "\n",
    "# outer boundary\n",
    "def r_outer(Luminosity_Lsun, Flux_outer_HZ):\n",
    "    r_outer = np.sqrt(Luminosity_Lsun / Flux_outer_HZ)\n",
    "\n",
    "    return r_outer\n",
    "\n",
    "data['HZ_outer_AU_2'] = data.apply(lambda row: r_outer(row['Luminosity_Lsun'], row['Flux_outer_HZ']), axis = 1)\n",
    "\n",
    "# print(data)"
   ]
  },
  {
   "cell_type": "markdown",
   "metadata": {},
   "source": [
    "4. Calculate middle of HZ"
   ]
  },
  {
   "cell_type": "code",
   "execution_count": 8,
   "metadata": {},
   "outputs": [],
   "source": [
    "def HZ_middle_ideal(HZ_inner, HZ_outer):\n",
    "    HZ_middle = (HZ_inner + HZ_outer) / 2\n",
    "\n",
    "    return HZ_middle_ideal\n",
    "\n",
    "# data['HZ_middle_AU_s'] = data.apply(lambda row: HZ_middle(row['HZ_inner_AU_s'], row['HZ_outer_AU_s']), axis = 1)\n",
    "data['HZ_middle_ideal_AU'] = data.apply(lambda row: HZ_middle_ideal(row['HZ_inner_AU_2'], row['HZ_outer_AU_2']), axis = 1)\n"
   ]
  },
  {
   "cell_type": "markdown",
   "metadata": {},
   "source": [
    "5. Radiation Intensity\n",
    "- Calculate distance from planet to star in m"
   ]
  },
  {
   "cell_type": "code",
   "execution_count": 9,
   "metadata": {},
   "outputs": [],
   "source": [
    "def pc_to_m(star_distance_pc):\n",
    "    star_distance_m = star_distance_pc * 3.086e+16\n",
    "\n",
    "    return star_distance_m\n",
    "\n",
    "data['star_distance_m'] = data['star_distance_pc'].apply(pc_to_m) \n",
    "\n",
    "# print(data)\n"
   ]
  },
  {
   "cell_type": "code",
   "execution_count": 10,
   "metadata": {},
   "outputs": [],
   "source": [
    "# radiation = L / 4pi(r)^2 W/m^2\n",
    "def radiation_I(luminosity, distance_m):\n",
    "    radiation_I = luminosity / (4*np.pi*(distance_m**2))\n",
    "\n",
    "    return radiation_I\n",
    "\n",
    "\n",
    "data['radiation_I41'] = data.apply(lambda row: radiation_I(row['Luminosity_Lsun'], row['star_distance_m']), axis = 1)"
   ]
  },
  {
   "cell_type": "code",
   "execution_count": null,
   "metadata": {},
   "outputs": [],
   "source": [
    "print(data)\n",
    "\n"
   ]
  },
  {
   "cell_type": "markdown",
   "metadata": {},
   "source": [
    "5. Calculate pre-main sequence time and main-sequence lifetime for given stars. ideal = middle main sequence, non-ideal = pre or post-main sequence"
   ]
  },
  {
   "cell_type": "markdown",
   "metadata": {},
   "source": [
    "5.1 Calculate pre-main sequence phase (tPMS)"
   ]
  },
  {
   "cell_type": "code",
   "execution_count": 11,
   "metadata": {},
   "outputs": [],
   "source": [
    "def pre_seq_GY(star_mass_msun):\n",
    "    pre_seq_length = ( 10e7*(star_mass_msun**-2.5) ) / 10e9\n",
    "\n",
    "    return pre_seq_length\n",
    "\n",
    "data['pre_seq_GY'] = data['star_mass_msun'].apply(pre_seq_GY) \n",
    "# print(data)"
   ]
  },
  {
   "cell_type": "markdown",
   "metadata": {},
   "source": [
    "5.2 Calculate main-sequence lifetime (tMS)"
   ]
  },
  {
   "cell_type": "code",
   "execution_count": 12,
   "metadata": {},
   "outputs": [],
   "source": [
    "def main_seq_GY(star_mass_msun):\n",
    "    main_seq_length = 10*(1/(star_mass_msun**2.5))\n",
    "\n",
    "    return main_seq_length\n",
    "\n",
    "data['main_seq_GY'] = data['star_mass_msun'].apply(main_seq_GY) \n",
    "# print(data)"
   ]
  },
  {
   "cell_type": "markdown",
   "metadata": {},
   "source": [
    "5.3 Calculate end of main sequence phase (transition into post-main sequence)"
   ]
  },
  {
   "cell_type": "code",
   "execution_count": 13,
   "metadata": {},
   "outputs": [],
   "source": [
    "data['main_seq_end_GY'] = data['pre_seq_GY'] + data['main_seq_GY']\n",
    "\n",
    "# print(data)"
   ]
  },
  {
   "cell_type": "markdown",
   "metadata": {},
   "source": [
    "5.4 Calculate mid-main sequence time"
   ]
  },
  {
   "cell_type": "code",
   "execution_count": 14,
   "metadata": {},
   "outputs": [],
   "source": [
    "def mid_main_seq_GY(main_seq_end_GY, pre_seq_GY):\n",
    "    mid_main_seq = (main_seq_end_GY - pre_seq_GY) / 2\n",
    "\n",
    "    return mid_main_seq\n",
    "\n",
    "data['mid_main_seq_GY'] = data.apply(lambda row: mid_main_seq_GY(row['main_seq_end_GY'], row['pre_seq_GY']), axis = 1)\n",
    "# print(data)"
   ]
  },
  {
   "cell_type": "markdown",
   "metadata": {},
   "source": [
    "6. Calculate ideal and non-ideal values ??"
   ]
  },
  {
   "cell_type": "markdown",
   "metadata": {},
   "source": [
    "- planet mass M(earth) == Earth? between 0.5 and 5 earth masses as can maintain atmosphere and possibly have H2O (aq)\n",
    "- planet radius R(earth) == Earth? between 0.8 and 1.5 earth radii as above might have thick gas envelopes and be more like mini-neptures/gas giant\n",
    "- planet temperature (K) == Earth? between 0 and 100'c where water can remain liquid as standard pressure\n",
    "- planet density == Earth? between 5 and 5.5 g/cm3\n",
    "- radiation intensity (W/m^2) == Earth ? limits at HZ?\n",
    "- HZ measurement == normal distribution, y = middle of HZ; non ideal = | 2sigma | where 1.5 sigma == boundary \n",
    "- star age ?? Gy maybe calculate lifetime based on Tms = 10gy * (1/(Mstar^2.5))  where Tms is main sequence lifetime. Pre-main sequence phase tpms = 10^7 * M^-2.5\n",
    "- interactions??"
   ]
  },
  {
   "cell_type": "markdown",
   "metadata": {},
   "source": [
    "6.1 Mass ideal and non-ideal values"
   ]
  },
  {
   "cell_type": "code",
   "execution_count": null,
   "metadata": {},
   "outputs": [],
   "source": [
    "# ?????"
   ]
  },
  {
   "cell_type": "markdown",
   "metadata": {},
   "source": [
    "6.2 Radius ideal and non-ideal values"
   ]
  },
  {
   "cell_type": "code",
   "execution_count": null,
   "metadata": {},
   "outputs": [],
   "source": [
    "# ?????\n",
    "print(data)"
   ]
  },
  {
   "cell_type": "markdown",
   "metadata": {},
   "source": [
    "6.3 Temperature ideal and non-ideal values"
   ]
  },
  {
   "cell_type": "code",
   "execution_count": null,
   "metadata": {},
   "outputs": [],
   "source": [
    "# calculate temperature in C\n",
    "\n",
    "def K_to_C(temp_calculated_K):\n",
    "\n",
    "    temp_calculated_C = temp_calculated_K - 273\n",
    "\n",
    "    return temp_calculated_C\n",
    "data['temp_calculated_C'] = data['temp_calculated_K'].apply(K_to_C) \n",
    "\n",
    "\n",
    "## ideal = 20\n",
    "## non ideal: 0 and 100"
   ]
  },
  {
   "cell_type": "markdown",
   "metadata": {},
   "source": [
    "6.4 Density ideal and non-ideal values"
   ]
  },
  {
   "cell_type": "code",
   "execution_count": null,
   "metadata": {},
   "outputs": [],
   "source": [
    "# not sure if this is relevant since densities varysignigicantly "
   ]
  },
  {
   "cell_type": "markdown",
   "metadata": {},
   "source": [
    "6.5 Radiation intensity"
   ]
  },
  {
   "cell_type": "code",
   "execution_count": null,
   "metadata": {},
   "outputs": [],
   "source": [
    "# ideal = intensity at UB?\n",
    "# non-ideal = intensity at LB?\n",
    "\n",
    "# print(data)"
   ]
  },
  {
   "cell_type": "code",
   "execution_count": null,
   "metadata": {},
   "outputs": [],
   "source": [
    "# radiation = L / 4pi(r)^2 W/m^2\n",
    "# translate to m\n",
    "def radiation_I(luminosity, distance_m):\n",
    "    radiation_I = luminosity / (4*np.pi*(distance_m**2))\n",
    "\n",
    "    return radiation_I\n",
    "\n",
    "\n",
    "data['radiation_I41'] = data.apply(lambda row: radiation_I(row['Luminosity_Lsun'], row['star_distance_m']), axis = 1)"
   ]
  },
  {
   "cell_type": "markdown",
   "metadata": {},
   "source": [
    "6.6 HZ normal distribution; ideal and non-ideal values"
   ]
  },
  {
   "cell_type": "code",
   "execution_count": 15,
   "metadata": {},
   "outputs": [],
   "source": [
    "def HZ_normal_curve(data):\n",
    "\n",
    "    lower_bound_values = []\n",
    "    upper_bound_values = []\n",
    "\n",
    "    for index, row in data.iterrows():\n",
    "        midpoint = row[\"HZ_middle_AU_2\"]\n",
    "        outer_boundary = row[\"HZ_outer_AU_2\"]\n",
    "\n",
    "        # Calculate bounds for values exactly 2 std deviations away from the mean\n",
    "        lower_bound = midpoint - 2 * ((outer_boundary - midpoint) / 1.5)\n",
    "        upper_bound = midpoint + 2 * ((outer_boundary - midpoint) / 1.5)\n",
    "        \n",
    "        # Append values to lists\n",
    "        lower_bound_values.append(lower_bound)\n",
    "        upper_bound_values.append(upper_bound)\n",
    "    \n",
    "    # Add new columns to DataFrame\n",
    "    data['HZ_LB_nonideal'] = lower_bound_values\n",
    "    data['HZ_UB_nonideal'] = upper_bound_values\n",
    "    \n",
    "    return data\n",
    "\n",
    "# Apply the function to your dataset\n",
    "data = HZ_normal_curve(data)\n",
    "\n",
    "# Display the updated dataset with specific values at lower and upper bounds recorded\n",
    "# print(data)\n",
    "\n",
    "\n"
   ]
  },
  {
   "cell_type": "markdown",
   "metadata": {},
   "source": [
    "6.6 Star age ideal and non-ideal values"
   ]
  },
  {
   "cell_type": "code",
   "execution_count": null,
   "metadata": {},
   "outputs": [],
   "source": [
    "print(data)"
   ]
  },
  {
   "cell_type": "code",
   "execution_count": 27,
   "metadata": {},
   "outputs": [],
   "source": [
    "# ideal = mid_main_seq_GY  \n",
    "# non ideal: > main_seq_end_GY  OR < pre_seq_GY  "
   ]
  },
  {
   "cell_type": "markdown",
   "metadata": {},
   "source": [
    "7. Normalise decision matrix ?"
   ]
  },
  {
   "cell_type": "markdown",
   "metadata": {},
   "source": [
    "8. Weighing\n",
    "Weighing can be determined in 1 of 2 ways:\n",
    "- use a correlation regression as done in Cobb Douglas\n",
    "- use difference from \"ideal\" Earth on a normal distribution to determine the importance of outliers"
   ]
  },
  {
   "cell_type": "markdown",
   "metadata": {},
   "source": [
    "9. Seperation measures - distance to ideal and non-ideal\n",
    "- likely to include creation of a completely new dataset for comparison of EACH exoplanet"
   ]
  },
  {
   "cell_type": "markdown",
   "metadata": {},
   "source": [
    "10. Relative closeness to ideal"
   ]
  },
  {
   "cell_type": "markdown",
   "metadata": {},
   "source": [
    "11. Comparison to Earth etc\n",
    "Would be good to add a visual aspect:\n",
    "- maybe an image with 'sliders' showing where points are from ideal?\n",
    "-  "
   ]
  }
 ],
 "metadata": {
  "kernelspec": {
   "display_name": "sciEnv",
   "language": "python",
   "name": "python3"
  },
  "language_info": {
   "codemirror_mode": {
    "name": "ipython",
    "version": 3
   },
   "file_extension": ".py",
   "mimetype": "text/x-python",
   "name": "python",
   "nbconvert_exporter": "python",
   "pygments_lexer": "ipython3",
   "version": "3.11.8"
  }
 },
 "nbformat": 4,
 "nbformat_minor": 2
}
