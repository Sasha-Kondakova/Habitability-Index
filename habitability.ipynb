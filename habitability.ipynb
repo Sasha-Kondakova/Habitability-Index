{
 "cells": [
  {
   "cell_type": "code",
   "execution_count": 1,
   "metadata": {},
   "outputs": [
    {
     "name": "stdout",
     "output_type": "stream",
     "text": [
      "Hello Habitable World!\n"
     ]
    }
   ],
   "source": [
    "print(\"Hello Habitable World!\")"
   ]
  },
  {
   "cell_type": "code",
   "execution_count": 2,
   "metadata": {},
   "outputs": [
    {
     "name": "stdout",
     "output_type": "stream",
     "text": [
      "Привет любимая!\n"
     ]
    }
   ],
   "source": [
    "print(\"Привет, любимая!\")"
   ]
  },
  {
   "cell_type": "markdown",
   "metadata": {},
   "source": [
    "The inner workings of TOPSIS:"
   ]
  },
  {
   "cell_type": "markdown",
   "metadata": {},
   "source": [
    "1. Import packages"
   ]
  },
  {
   "cell_type": "code",
   "execution_count": null,
   "metadata": {},
   "outputs": [],
   "source": [
    "import numpy as np\n",
    "import pandas as pd"
   ]
  },
  {
   "cell_type": "markdown",
   "metadata": {},
   "source": [
    "2. Import / create / display data"
   ]
  },
  {
   "cell_type": "code",
   "execution_count": 2,
   "metadata": {},
   "outputs": [],
   "source": [
    "data = {\n",
    "    'Exoplanet': ['Exoplanet A', 'Exoplanet B', 'Exoplanet C'],\n",
    "    'Surface Temperature': [300, 280, 290],\n",
    "    'Atmospheric Oxygen Level': [0.8, 0.9, 0.85],\n",
    "    'Distance from Star': [0.5, 0.7, 0.6]\n",
    "}\n",
    "\n",
    "# For us, this is likely to be either:\n",
    "# 1. dataset compiling Earth + 1 exoplanet values under study IN THE BEGINING\n",
    "# 2. dataset compiling all values for all exoplanets under study IN THE END\n",
    "\n",
    "# Create a DataFrame\n",
    "df = pd.DataFrame(data)\n",
    "\n",
    "# Display the DataFrame\n",
    "print(\"Initial Data:\")\n",
    "print(df)"
   ]
  },
  {
   "cell_type": "markdown",
   "metadata": {},
   "source": [
    "3. Normalise decision matrix "
   ]
  },
  {
   "cell_type": "code",
   "execution_count": null,
   "metadata": {},
   "outputs": [],
   "source": [
    "# Normalize using Euclidean norm == MAYBE NOT ??\n",
    "# Anti-ideal solution is likely to be ABOVE Earth's. Is there a way we can normalise Earth to 0.5? \n",
    "# If not, does that matter? Do we need to normalise at all? \n",
    "df_normalized = df.iloc[:, 1:].apply(lambda x: x / np.sqrt((x**2).sum()), axis=0)\n",
    "\n",
    "# Display the normalized decision matrix\n",
    "print(\"\\nNormalized Decision Matrix:\")\n",
    "print(df_normalized)"
   ]
  },
  {
   "cell_type": "markdown",
   "metadata": {},
   "source": [
    "4. Weighing / elasticity"
   ]
  },
  {
   "cell_type": "code",
   "execution_count": 3,
   "metadata": {},
   "outputs": [],
   "source": [
    "# Assume weights for each criterion\n",
    "weights = np.array([0.4, 0.3, 0.3])\n",
    "\n",
    "# For us, this is likely to be:\n",
    "# determined by ther indexes like in Cobb-Douglass HS"
   ]
  },
  {
   "cell_type": "markdown",
   "metadata": {},
   "source": [
    "5. Ideal and Anti-ideal solutions"
   ]
  },
  {
   "cell_type": "code",
   "execution_count": null,
   "metadata": {},
   "outputs": [],
   "source": [
    "# Ideal (best) solution\n",
    "# Here taken as max value, but probably not for us\n",
    "ideal_solution = df_normalized.max()\n",
    "\n",
    "# Anti-Ideal (worst) solution ->\n",
    "# For us, this can be a NORMAL BELL CURVE, with value of Earth in the middle \n",
    "# BUT make sure these are also standardised !!!\n",
    "anti_ideal_solution = df_normalized.min()\n",
    "\n",
    "# Display the ideal and anti-ideal solutions\n",
    "print(\"\\nIdeal Solution:\")\n",
    "print(ideal_solution)\n",
    "print(\"\\nAnti-Ideal Solution:\")\n",
    "print(anti_ideal_solution)"
   ]
  },
  {
   "cell_type": "markdown",
   "metadata": {},
   "source": [
    "6. Seperation Measures"
   ]
  },
  {
   "cell_type": "code",
   "execution_count": null,
   "metadata": {},
   "outputs": [],
   "source": [
    "# Calculate the Euclidean distance from ideal and anti-ideal solutions\n",
    "# WTF does Euclidean mean???\n",
    "# Not sure what this code does\n",
    "distance_to_ideal = np.sqrt(((df_normalized - ideal_solution) ** 2).sum(axis=1))\n",
    "distance_to_anti_ideal = np.sqrt(((df_normalized - anti_ideal_solution) ** 2).sum(axis=1))\n",
    "\n",
    "# Display the separation measures\n",
    "print(\"\\nDistance to Ideal Solution:\")\n",
    "print(distance_to_ideal)\n",
    "print(\"\\nDistance to Anti-Ideal Solution:\")\n",
    "print(distance_to_anti_ideal)"
   ]
  },
  {
   "cell_type": "markdown",
   "metadata": {},
   "source": [
    "7. Relative closeness to ideal"
   ]
  },
  {
   "cell_type": "code",
   "execution_count": null,
   "metadata": {},
   "outputs": [],
   "source": [
    "relative_closeness = distance_to_anti_ideal / (distance_to_ideal + distance_to_anti_ideal)\n",
    "\n",
    "# Display the relative closeness\n",
    "print(\"\\nRelative Closeness to Ideal Solution:\")\n",
    "print(relative_closeness)"
   ]
  },
  {
   "cell_type": "markdown",
   "metadata": {},
   "source": [
    "8. Rank exoplanets"
   ]
  },
  {
   "cell_type": "code",
   "execution_count": null,
   "metadata": {},
   "outputs": [],
   "source": [
    "# WE MIGHT NOT NEED THIS STEP\n",
    "# Add the relative closeness to the DataFrame\n",
    "df['Relative Closeness'] = relative_closeness\n",
    "\n",
    "# Rank the exoplanets based on relative closeness\n",
    "df['Rank'] = df['Relative Closeness'].rank(ascending=False)\n",
    "\n",
    "# Display the final ranking\n",
    "print(\"\\nFinal Ranking:\")\n",
    "print(df)"
   ]
  }
 ],
 "metadata": {
  "kernelspec": {
   "display_name": "sciEnv",
   "language": "python",
   "name": "python3"
  },
  "language_info": {
   "codemirror_mode": {
    "name": "ipython",
    "version": 3
   },
   "file_extension": ".py",
   "mimetype": "text/x-python",
   "name": "python",
   "nbconvert_exporter": "python",
   "pygments_lexer": "ipython3",
   "version": "3.11.8"
  }
 },
 "nbformat": 4,
 "nbformat_minor": 2
}
