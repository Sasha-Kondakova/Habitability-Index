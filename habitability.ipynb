{
 "cells": [
  {
   "cell_type": "code",
   "execution_count": 1,
   "metadata": {},
   "outputs": [
    {
     "name": "stdout",
     "output_type": "stream",
     "text": [
      "Hello Habitable World!\n"
     ]
    }
   ],
   "source": [
    "print(\"Hello Habitable World!\")"
   ]
  },
  {
   "cell_type": "code",
   "execution_count": 2,
   "metadata": {},
   "outputs": [
    {
     "name": "stdout",
     "output_type": "stream",
     "text": [
      "Привет любимая!\n"
     ]
    }
   ],
   "source": [
    "print(\"Привет, любимая!\")"
   ]
  },
  {
   "cell_type": "markdown",
   "metadata": {},
   "source": [
    "1. THE MODEL: The inner workings of TOPSIS:"
   ]
  },
  {
   "cell_type": "markdown",
   "metadata": {},
   "source": [
    "1.1 Import packages"
   ]
  },
  {
   "cell_type": "code",
   "execution_count": null,
   "metadata": {},
   "outputs": [],
   "source": [
    "import numpy as np\n",
    "import pandas as pd"
   ]
  },
  {
   "cell_type": "markdown",
   "metadata": {},
   "source": [
    "2.1 Import / create / display data"
   ]
  },
  {
   "cell_type": "code",
   "execution_count": 2,
   "metadata": {},
   "outputs": [],
   "source": [
    "data = {\n",
    "    'Exoplanet': ['Exoplanet A', 'Exoplanet B', 'Exoplanet C'],\n",
    "    'Surface Temperature': [300, 280, 290],\n",
    "    'Atmospheric Oxygen Level': [0.8, 0.9, 0.85],\n",
    "    'Distance from Star': [0.5, 0.7, 0.6]\n",
    "}\n",
    "\n",
    "# For us, this is likely to be either:\n",
    "# 1. dataset compiling Earth + 1 exoplanet values under study IN THE BEGINING\n",
    "# 2. dataset compiling all values for all exoplanets under study IN THE END\n",
    "\n",
    "# Create a DataFrame\n",
    "df = pd.DataFrame(data)\n",
    "\n",
    "# Display the DataFrame\n",
    "print(\"Initial Data:\")\n",
    "print(df)"
   ]
  },
  {
   "cell_type": "markdown",
   "metadata": {},
   "source": [
    "3.1 Normalise decision matrix "
   ]
  },
  {
   "cell_type": "code",
   "execution_count": null,
   "metadata": {},
   "outputs": [],
   "source": [
    "# Normalize using Euclidean norm == MAYBE NOT ??\n",
    "# Anti-ideal solution is likely to be ABOVE Earth's. Is there a way we can normalise Earth to 0.5? \n",
    "# If not, does that matter? Do we need to normalise at all? \n",
    "df_normalized = df.iloc[:, 1:].apply(lambda x: x / np.sqrt((x**2).sum()), axis=0)\n",
    "\n",
    "# Display the normalized decision matrix\n",
    "print(\"\\nNormalized Decision Matrix:\")\n",
    "print(df_normalized)"
   ]
  },
  {
   "cell_type": "markdown",
   "metadata": {},
   "source": [
    "4.1 Weighing / elasticity"
   ]
  },
  {
   "cell_type": "code",
   "execution_count": 3,
   "metadata": {},
   "outputs": [],
   "source": [
    "# Assume weights for each criterion\n",
    "weights = np.array([0.4, 0.3, 0.3])\n",
    "\n",
    "# For us, this is likely to be:\n",
    "# determined by ther indexes like in Cobb-Douglass HS"
   ]
  },
  {
   "cell_type": "markdown",
   "metadata": {},
   "source": [
    "5.1 Ideal and Anti-ideal solutions"
   ]
  },
  {
   "cell_type": "code",
   "execution_count": null,
   "metadata": {},
   "outputs": [],
   "source": [
    "# Ideal (best) solution\n",
    "# Here taken as max value, but probably not for us\n",
    "ideal_solution = df_normalized.max()\n",
    "\n",
    "# Anti-Ideal (worst) solution ->\n",
    "# For us, this can be a NORMAL BELL CURVE, with value of Earth in the middle \n",
    "# BUT make sure these are also standardised !!!\n",
    "anti_ideal_solution = df_normalized.min()\n",
    "\n",
    "# Display the ideal and anti-ideal solutions\n",
    "print(\"\\nIdeal Solution:\")\n",
    "print(ideal_solution)\n",
    "print(\"\\nAnti-Ideal Solution:\")\n",
    "print(anti_ideal_solution)"
   ]
  },
  {
   "cell_type": "markdown",
   "metadata": {},
   "source": [
    "6.1 Seperation Measures"
   ]
  },
  {
   "cell_type": "code",
   "execution_count": null,
   "metadata": {},
   "outputs": [],
   "source": [
    "# Calculate the Euclidean distance from ideal and anti-ideal solutions\n",
    "# WTF does Euclidean mean???\n",
    "# Not sure what this code does\n",
    "distance_to_ideal = np.sqrt(((df_normalized - ideal_solution) ** 2).sum(axis=1))\n",
    "distance_to_anti_ideal = np.sqrt(((df_normalized - anti_ideal_solution) ** 2).sum(axis=1))\n",
    "\n",
    "# Display the separation measures\n",
    "print(\"\\nDistance to Ideal Solution:\")\n",
    "print(distance_to_ideal)\n",
    "print(\"\\nDistance to Anti-Ideal Solution:\")\n",
    "print(distance_to_anti_ideal)"
   ]
  },
  {
   "cell_type": "markdown",
   "metadata": {},
   "source": [
    "7.1 Relative closeness to ideal"
   ]
  },
  {
   "cell_type": "code",
   "execution_count": null,
   "metadata": {},
   "outputs": [],
   "source": [
    "relative_closeness = distance_to_anti_ideal / (distance_to_ideal + distance_to_anti_ideal)\n",
    "\n",
    "# Display the relative closeness\n",
    "print(\"\\nRelative Closeness to Ideal Solution:\")\n",
    "print(relative_closeness)"
   ]
  },
  {
   "cell_type": "markdown",
   "metadata": {},
   "source": [
    "8.1 Rank exoplanets"
   ]
  },
  {
   "cell_type": "code",
   "execution_count": null,
   "metadata": {},
   "outputs": [],
   "source": [
    "# WE MIGHT NOT NEED THIS STEP\n",
    "# Add the relative closeness to the DataFrame\n",
    "df['Relative Closeness'] = relative_closeness\n",
    "\n",
    "# Rank the exoplanets based on relative closeness\n",
    "df['Rank'] = df['Relative Closeness'].rank(ascending=False)\n",
    "\n",
    "# Display the final ranking\n",
    "print(\"\\nFinal Ranking:\")\n",
    "print(df)"
   ]
  },
  {
   "cell_type": "markdown",
   "metadata": {},
   "source": [
    "2. FACTOR 1: Habitability Zone (HZ)"
   ]
  },
  {
   "cell_type": "markdown",
   "metadata": {},
   "source": [
    "2.1 Calculate Luminosity (L) of the star you're working with"
   ]
  },
  {
   "cell_type": "code",
   "execution_count": null,
   "metadata": {},
   "outputs": [],
   "source": [
    "L = M^3.5*(3.828*10^26)\n",
    "# where:\n",
    "        # M = star mass compared to our sun. Also shown as Mo or Msun.\n",
    "        # 3.5 = relationship between L and M\n",
    "        # 3.828x10^26 = OUR solar luminosity. Also shown as Lo"
   ]
  },
  {
   "cell_type": "markdown",
   "metadata": {},
   "source": [
    "2.2 Calculate solar flux at inner and outer edges of supposed HZ"
   ]
  },
  {
   "cell_type": "code",
   "execution_count": null,
   "metadata": {},
   "outputs": [],
   "source": [
    "S_inner = 1.1*(Teff/5778)^-1.8\n",
    "S_outer = 0.53*(Teff/5778)^-0.5\n",
    "# where:\n",
    "        # 1.1 and 0.53 = scaling factors\n",
    "        # Teff = effective temperature of the Sun in question\n",
    "        # 5778 = effective temperature of OUR sun. Also shown as To == 5778 K\n",
    "        # -0.8 and -0.5 = relationship between Temperature dependence and flux (ie how one changes). \n",
    "            # Values used here are most common"
   ]
  },
  {
   "cell_type": "markdown",
   "metadata": {},
   "source": [
    "2.3 Calculate HZ boundaries by distance"
   ]
  },
  {
   "cell_type": "code",
   "execution_count": null,
   "metadata": {},
   "outputs": [],
   "source": [
    "d_inner = (L/(4*pi*S_inner))^0.5\n",
    "d_outer = (L/(4*pi*S_outer))^0.5\n",
    "# where:\n",
    "        # L has been calculated in section 2.1, in Watts\n",
    "        # S_inner and S_outer have been calculated in section 2.2, in Watts per M^2\n",
    "        # d_inner and d_outer are boundary distances from sun, in meters"
   ]
  },
  {
   "cell_type": "markdown",
   "metadata": {},
   "source": [
    "2.4 Calculate HZ boundaries by AU"
   ]
  },
  {
   "cell_type": "code",
   "execution_count": null,
   "metadata": {},
   "outputs": [],
   "source": [
    "d_inner_AU = d_inner/(1.496*10^11)\n",
    "d_outer_AU = d_outer/(1.496*10^11)"
   ]
  },
  {
   "cell_type": "markdown",
   "metadata": {},
   "source": [
    "2.5 Calculate ideal value: middle of HZ"
   ]
  },
  {
   "cell_type": "code",
   "execution_count": null,
   "metadata": {},
   "outputs": [],
   "source": [
    "d_ideal_AU = (d_inner + d_outer_AU)/2"
   ]
  },
  {
   "cell_type": "markdown",
   "metadata": {},
   "source": [
    "2.6 Calculate non-ideal values: normal distribution"
   ]
  },
  {
   "cell_type": "code",
   "execution_count": null,
   "metadata": {},
   "outputs": [],
   "source": [
    "# where:\n",
    "        # d_inner_AU == 1 sigma from d_ideal_AU\n",
    "        # d_outer_AU == 1 sigma from d_ideal_AU\n",
    "\n",
    "# take non ideal values to be 2 sigma from d_ideal_AU\n",
    "# maybe normalise at this point for make d_ideal_AU = 0 ?? IDK\n",
    "\n",
    "??"
   ]
  },
  {
   "cell_type": "markdown",
   "metadata": {},
   "source": [
    "2.7 Find if planet in question is within the HZ"
   ]
  },
  {
   "cell_type": "code",
   "execution_count": null,
   "metadata": {},
   "outputs": [],
   "source": [
    "if distance_AU < d_outer_AU AND distance_AU > d_inner_AU:\n",
    "    d_AU_from_ideal = |distance_AU - ideal_d_AU|\n",
    "# where:\n",
    "        # If within HZ, see how  far from ideal "
   ]
  },
  {
   "cell_type": "markdown",
   "metadata": {},
   "source": [
    "2.8 If not in the HZ, see how far"
   ]
  },
  {
   "cell_type": "code",
   "execution_count": null,
   "metadata": {},
   "outputs": [],
   "source": [
    "if distance_AU > d_outer_AU OR distance_AU < d_inner_AU:\n",
    "    d_AU_smallest = ?? # calculate which boundary is closest\n",
    "    d_AU_from_nonideal = |d_inner_AU OR d_outer_AU - distance_AU|\n",
    "# where:\n",
    "        # if NOT within HZ\n",
    "        # calculate which boundary is closest\n",
    "        # calculate how far it is from that boundary"
   ]
  },
  {
   "cell_type": "markdown",
   "metadata": {},
   "source": [
    "2.9 Normalise and incorporate into TOPSIS"
   ]
  },
  {
   "cell_type": "code",
   "execution_count": null,
   "metadata": {},
   "outputs": [],
   "source": [
    "# not sure how yet"
   ]
  },
  {
   "cell_type": "markdown",
   "metadata": {},
   "source": [
    "2.10 Ensure to show whether planet is in or out of HZ"
   ]
  },
  {
   "cell_type": "code",
   "execution_count": null,
   "metadata": {},
   "outputs": [],
   "source": [
    "# when TOPSIS is calculated:\n",
    "# print \"Planet X is within the habitability zone of its star\"\n",
    "# OR\n",
    "# print \"Planet X is outside its habitability zone by n AU\""
   ]
  }
 ],
 "metadata": {
  "kernelspec": {
   "display_name": "sciEnv",
   "language": "python",
   "name": "python3"
  },
  "language_info": {
   "codemirror_mode": {
    "name": "ipython",
    "version": 3
   },
   "file_extension": ".py",
   "mimetype": "text/x-python",
   "name": "python",
   "nbconvert_exporter": "python",
   "pygments_lexer": "ipython3",
   "version": "3.11.8"
  }
 },
 "nbformat": 4,
 "nbformat_minor": 2
}
