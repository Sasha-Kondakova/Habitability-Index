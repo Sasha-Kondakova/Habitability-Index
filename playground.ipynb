{
 "cells": [
  {
   "cell_type": "code",
   "execution_count": 16,
   "metadata": {},
   "outputs": [
    {
     "name": "stdout",
     "output_type": "stream",
     "text": [
      "    water  map_temperature    map_HZ  map_star_age    HUI_05\n",
      "0    0.25         0.210811  0.000000      0.005923  0.959141\n",
      "1    0.50         0.000001  0.000000      0.710316  0.708107\n",
      "2    0.50         0.000001  0.000000      0.461559  0.708107\n",
      "3    0.25         0.000001  0.000000      0.121560  0.501000\n",
      "4    0.50         0.115946  0.000000      0.000753  1.047615\n",
      "5    0.50         0.000001  0.000000      0.836095  0.708107\n",
      "6    0.00         0.178378  0.000000      0.919840  0.422349\n",
      "7    0.00         0.000001  0.211684      0.919840  0.001000\n",
      "8    0.25         0.000001  0.887236      0.919840  0.501000\n",
      "9    0.25         0.000001  0.000000      0.919840  0.501000\n",
      "10   0.25         0.000001  0.000000      0.919840  0.501000\n",
      "11   0.50         0.000001  0.000000      0.919840  0.708107\n",
      "12   0.50         0.000001  0.000000      0.919840  0.708107\n",
      "13   1.00         1.000000  0.527526      0.919840  2.000000\n"
     ]
    },
    {
     "name": "stderr",
     "output_type": "stream",
     "text": [
      "C:\\Users\\21sko\\AppData\\Local\\Temp\\ipykernel_34364\\4130511699.py:15: SettingWithCopyWarning: \n",
      "A value is trying to be set on a copy of a slice from a DataFrame.\n",
      "Try using .loc[row_indexer,col_indexer] = value instead\n",
      "\n",
      "See the caveats in the documentation: https://pandas.pydata.org/pandas-docs/stable/user_guide/indexing.html#returning-a-view-versus-a-copy\n",
      "  test['HUI_05'] = test.apply(lambda row: playground(row['water'], row['map_temperature']), axis = 1)\n"
     ]
    }
   ],
   "source": [
    "\n",
    "df = pd.read_csv('results.csv')\n",
    "selected_columns = ['water', 'map_temperature', 'map_HZ', 'map_star_age']\n",
    "test = df[selected_columns]\n",
    "\n",
    "\n",
    "def playground(water,temperature):\n",
    "    \n",
    "    weight_water = 0.5\n",
    "    weight_temp = 0.5\n",
    "    \n",
    "\n",
    "    playground = (water)**weight_water + (temperature)**weight_temp \n",
    "    return playground\n",
    "\n",
    "test['HUI_05'] = test.apply(lambda row: playground(row['water'], row['map_temperature']), axis = 1)\n",
    "print(test)\n"
   ]
  },
  {
   "cell_type": "code",
   "execution_count": 19,
   "metadata": {},
   "outputs": [
    {
     "name": "stdout",
     "output_type": "stream",
     "text": [
      "    water  map_temperature    map_HZ  map_star_age    HUI_05  HUI_xTxW\n",
      "0    0.25         0.210811  0.000000      0.005923  0.959141  0.594668\n",
      "1    0.50         0.000001  0.000000      0.710316  0.708107  0.439026\n",
      "2    0.50         0.000001  0.000000      0.461559  0.708107  0.439026\n",
      "3    0.25         0.000001  0.000000      0.121560  0.501000  0.310620\n",
      "4    0.50         0.115946  0.000000      0.000753  1.047615  0.649521\n",
      "5    0.50         0.000001  0.000000      0.836095  0.708107  0.439026\n",
      "6    0.00         0.178378  0.000000      0.919840  0.422349  0.261856\n",
      "7    0.00         0.000001  0.211684      0.919840  0.001000  0.000620\n",
      "8    0.25         0.000001  0.887236      0.919840  0.501000  0.310620\n",
      "9    0.25         0.000001  0.000000      0.919840  0.501000  0.310620\n",
      "10   0.25         0.000001  0.000000      0.919840  0.501000  0.310620\n",
      "11   0.50         0.000001  0.000000      0.919840  0.708107  0.439026\n",
      "12   0.50         0.000001  0.000000      0.919840  0.708107  0.439026\n",
      "13   1.00         1.000000  0.527526      0.919840  2.000000  1.240000\n"
     ]
    },
    {
     "name": "stderr",
     "output_type": "stream",
     "text": [
      "C:\\Users\\21sko\\AppData\\Local\\Temp\\ipykernel_34364\\2037942420.py:12: SettingWithCopyWarning: \n",
      "A value is trying to be set on a copy of a slice from a DataFrame.\n",
      "Try using .loc[row_indexer,col_indexer] = value instead\n",
      "\n",
      "See the caveats in the documentation: https://pandas.pydata.org/pandas-docs/stable/user_guide/indexing.html#returning-a-view-versus-a-copy\n",
      "  test['HUI_xTxW'] = test.apply(lambda row: playground(row['water'], row['map_temperature']), axis = 1)\n"
     ]
    }
   ],
   "source": [
    "# cor = 0.62\n",
    "# 0.62 x H2O + 0.62 x T\n",
    "def playground(water,temperature):\n",
    "    \n",
    "    weight_water = 0.5\n",
    "    weight_temp = 0.5\n",
    "    \n",
    "\n",
    "    playground = 0.62*(water)**weight_water + 0.62*(temperature)**weight_temp \n",
    "    return playground\n",
    "\n",
    "test['HUI_xTxW'] = test.apply(lambda row: playground(row['water'], row['map_temperature']), axis = 1)\n",
    "print(test)\n"
   ]
  },
  {
   "cell_type": "code",
   "execution_count": 20,
   "metadata": {},
   "outputs": [
    {
     "name": "stdout",
     "output_type": "stream",
     "text": [
      "    water  map_temperature    map_HZ  map_star_age    HUI_05  HUI_xTxW  \\\n",
      "0    0.25         0.210811  0.000000      0.005923  0.959141  0.594668   \n",
      "1    0.50         0.000001  0.000000      0.710316  0.708107  0.439026   \n",
      "2    0.50         0.000001  0.000000      0.461559  0.708107  0.439026   \n",
      "3    0.25         0.000001  0.000000      0.121560  0.501000  0.310620   \n",
      "4    0.50         0.115946  0.000000      0.000753  1.047615  0.649521   \n",
      "5    0.50         0.000001  0.000000      0.836095  0.708107  0.439026   \n",
      "6    0.00         0.178378  0.000000      0.919840  0.422349  0.261856   \n",
      "7    0.00         0.000001  0.211684      0.919840  0.001000  0.000620   \n",
      "8    0.25         0.000001  0.887236      0.919840  0.501000  0.310620   \n",
      "9    0.25         0.000001  0.000000      0.919840  0.501000  0.310620   \n",
      "10   0.25         0.000001  0.000000      0.919840  0.501000  0.310620   \n",
      "11   0.50         0.000001  0.000000      0.919840  0.708107  0.439026   \n",
      "12   0.50         0.000001  0.000000      0.919840  0.708107  0.439026   \n",
      "13   1.00         1.000000  0.527526      0.919840  2.000000  1.240000   \n",
      "\n",
      "    HUI_(xT)xW  \n",
      "0     0.755229  \n",
      "1     0.557564  \n",
      "2     0.557564  \n",
      "3     0.394488  \n",
      "4     0.824893  \n",
      "5     0.557564  \n",
      "6     0.332558  \n",
      "7     0.000787  \n",
      "8     0.394488  \n",
      "9     0.394488  \n",
      "10    0.394488  \n",
      "11    0.557564  \n",
      "12    0.557564  \n",
      "13    1.574802  \n"
     ]
    },
    {
     "name": "stderr",
     "output_type": "stream",
     "text": [
      "C:\\Users\\21sko\\AppData\\Local\\Temp\\ipykernel_34364\\2135950935.py:12: SettingWithCopyWarning: \n",
      "A value is trying to be set on a copy of a slice from a DataFrame.\n",
      "Try using .loc[row_indexer,col_indexer] = value instead\n",
      "\n",
      "See the caveats in the documentation: https://pandas.pydata.org/pandas-docs/stable/user_guide/indexing.html#returning-a-view-versus-a-copy\n",
      "  test['HUI_(xT)xW'] = test.apply(lambda row: playground(row['water'], row['map_temperature']), axis = 1)\n"
     ]
    }
   ],
   "source": [
    "# cor = 0.62\n",
    "# (0.62 x H2O)^w + (0.62 x T)^w\n",
    "def playground(water,temperature):\n",
    "    \n",
    "    weight_water = 0.5\n",
    "    weight_temp = 0.5\n",
    "    \n",
    "\n",
    "    playground = (0.62*water)**weight_water + (0.62*temperature)**weight_temp \n",
    "    return playground\n",
    "\n",
    "test['HUI_(xT)xW'] = test.apply(lambda row: playground(row['water'], row['map_temperature']), axis = 1)\n",
    "print(test)\n"
   ]
  },
  {
   "cell_type": "code",
   "execution_count": null,
   "metadata": {},
   "outputs": [
    {
     "name": "stdout",
     "output_type": "stream",
     "text": [
      "    water  map_temperature    map_HZ  map_star_age    HUI_05  HUI_xTxW  \\\n",
      "0    0.25         0.210811  0.000000      0.005923  0.959141  0.594668   \n",
      "1    0.50         0.000001  0.000000      0.710316  0.708107  0.439026   \n",
      "2    0.50         0.000001  0.000000      0.461559  0.708107  0.439026   \n",
      "3    0.25         0.000001  0.000000      0.121560  0.501000  0.310620   \n",
      "4    0.50         0.115946  0.000000      0.000753  1.047615  0.649521   \n",
      "5    0.50         0.000001  0.000000      0.836095  0.708107  0.439026   \n",
      "6    0.00         0.178378  0.000000      0.919840  0.422349  0.261856   \n",
      "7    0.00         0.000001  0.211684      0.919840  0.001000  0.000620   \n",
      "8    0.25         0.000001  0.887236      0.919840  0.501000  0.310620   \n",
      "9    0.25         0.000001  0.000000      0.919840  0.501000  0.310620   \n",
      "10   0.25         0.000001  0.000000      0.919840  0.501000  0.310620   \n",
      "11   0.50         0.000001  0.000000      0.919840  0.708107  0.439026   \n",
      "12   0.50         0.000001  0.000000      0.919840  0.708107  0.439026   \n",
      "13   1.00         1.000000  0.527526      0.919840  2.000000  1.240000   \n",
      "\n",
      "    HUI_(xT)xW  \n",
      "0     0.755229  \n",
      "1     0.557564  \n",
      "2     0.557564  \n",
      "3     0.394488  \n",
      "4     0.824893  \n",
      "5     0.557564  \n",
      "6     0.332558  \n",
      "7     0.000787  \n",
      "8     0.394488  \n",
      "9     0.394488  \n",
      "10    0.394488  \n",
      "11    0.557564  \n",
      "12    0.557564  \n",
      "13    1.574802  \n"
     ]
    },
    {
     "name": "stderr",
     "output_type": "stream",
     "text": [
      "C:\\Users\\21sko\\AppData\\Local\\Temp\\ipykernel_34364\\2135950935.py:12: SettingWithCopyWarning: \n",
      "A value is trying to be set on a copy of a slice from a DataFrame.\n",
      "Try using .loc[row_indexer,col_indexer] = value instead\n",
      "\n",
      "See the caveats in the documentation: https://pandas.pydata.org/pandas-docs/stable/user_guide/indexing.html#returning-a-view-versus-a-copy\n",
      "  test['HUI_(xT)xW'] = test.apply(lambda row: playground(row['water'], row['map_temperature']), axis = 1)\n"
     ]
    }
   ],
   "source": [
    "# cor = 0.62\n",
    "# (H2O^0.62)^w + (T^0.62)^w\n",
    "def playground(water,temperature):\n",
    "    \n",
    "    weight_water = 0.5\n",
    "    weight_temp = 0.5\n",
    "    \n",
    "\n",
    "    playground = (0.62*water)**weight_water + (0.62*temperature)**weight_temp \n",
    "    return playground\n",
    "\n",
    "test['HUI_(xT)xW'] = test.apply(lambda row: playground(row['water'], row['map_temperature']), axis = 1)\n",
    "print(test)\n"
   ]
  }
 ],
 "metadata": {
  "kernelspec": {
   "display_name": "sciEnv",
   "language": "python",
   "name": "python3"
  },
  "language_info": {
   "codemirror_mode": {
    "name": "ipython",
    "version": 3
   },
   "file_extension": ".py",
   "mimetype": "text/x-python",
   "name": "python",
   "nbconvert_exporter": "python",
   "pygments_lexer": "ipython3",
   "version": "3.11.8"
  }
 },
 "nbformat": 4,
 "nbformat_minor": 2
}
