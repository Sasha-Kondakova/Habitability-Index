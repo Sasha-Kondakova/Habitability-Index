{
 "cells": [
  {
   "cell_type": "code",
   "execution_count": null,
   "metadata": {},
   "outputs": [],
   "source": [
    "print(\"Hello Habitable World!\")"
   ]
  },
  {
   "cell_type": "code",
   "execution_count": null,
   "metadata": {},
   "outputs": [],
   "source": [
    "print(\"Привет, любимая!\")"
   ]
  },
  {
   "cell_type": "markdown",
   "metadata": {},
   "source": [
    "1. THE MODEL: The inner workings of TOPSIS:"
   ]
  },
  {
   "cell_type": "markdown",
   "metadata": {},
   "source": [
    "1.1 Import packages"
   ]
  },
  {
   "cell_type": "code",
   "execution_count": null,
   "metadata": {},
   "outputs": [],
   "source": [
    "import numpy as np\n",
    "import pandas as pd"
   ]
  },
  {
   "cell_type": "markdown",
   "metadata": {},
   "source": [
    "2.1 Import / create / display data"
   ]
  },
  {
   "cell_type": "code",
   "execution_count": null,
   "metadata": {},
   "outputs": [],
   "source": [
    "data = {\n",
    "    'Exoplanet': ['Exoplanet A', 'Exoplanet B', 'Exoplanet C'],\n",
    "    'Surface Temperature': [300, 280, 290],\n",
    "    'Atmospheric Oxygen Level': [0.8, 0.9, 0.85],\n",
    "    'Distance from Star': [0.5, 0.7, 0.6]\n",
    "}\n",
    "\n",
    "# For us, this is likely to be either:\n",
    "# 1. dataset compiling Earth + 1 exoplanet values under study IN THE BEGINING\n",
    "# 2. dataset compiling all values for all exoplanets under study IN THE END\n",
    "\n",
    "# Create a DataFrame\n",
    "df = pd.DataFrame(data)\n",
    "\n",
    "# Display the DataFrame\n",
    "print(\"Initial Data:\")\n",
    "print(df)"
   ]
  },
  {
   "cell_type": "markdown",
   "metadata": {},
   "source": [
    "3.1 Normalise decision matrix "
   ]
  },
  {
   "cell_type": "code",
   "execution_count": null,
   "metadata": {},
   "outputs": [],
   "source": [
    "# Normalize using Euclidean norm == MAYBE NOT ??\n",
    "# Anti-ideal solution is likely to be ABOVE Earth's. Is there a way we can normalise Earth to 0.5? \n",
    "# If not, does that matter? Do we need to normalise at all? \n",
    "df_normalized = df.iloc[:, 1:].apply(lambda x: x / np.sqrt((x**2).sum()), axis=0)\n",
    "\n",
    "# Display the normalized decision matrix\n",
    "print(\"\\nNormalized Decision Matrix:\")\n",
    "print(df_normalized)"
   ]
  },
  {
   "cell_type": "markdown",
   "metadata": {},
   "source": [
    "4.1 Weighing / elasticity"
   ]
  },
  {
   "cell_type": "code",
   "execution_count": null,
   "metadata": {},
   "outputs": [],
   "source": [
    "# Assume weights for each criterion\n",
    "weights = np.array([0.4, 0.3, 0.3])\n",
    "\n",
    "# For us, this is likely to be:\n",
    "# determined by ther indexes like in Cobb-Douglass HS"
   ]
  },
  {
   "cell_type": "markdown",
   "metadata": {},
   "source": [
    "5.1 Ideal and Anti-ideal solutions"
   ]
  },
  {
   "cell_type": "code",
   "execution_count": null,
   "metadata": {},
   "outputs": [],
   "source": [
    "# Ideal (best) solution\n",
    "# Here taken as max value, but probably not for us\n",
    "ideal_solution = df_normalized.max()\n",
    "\n",
    "# Anti-Ideal (worst) solution ->\n",
    "# For us, this can be a NORMAL BELL CURVE, with value of Earth in the middle \n",
    "# BUT make sure these are also standardised !!!\n",
    "anti_ideal_solution = df_normalized.min()\n",
    "\n",
    "# Display the ideal and anti-ideal solutions\n",
    "print(\"\\nIdeal Solution:\")\n",
    "print(ideal_solution)\n",
    "print(\"\\nAnti-Ideal Solution:\")\n",
    "print(anti_ideal_solution)"
   ]
  },
  {
   "cell_type": "markdown",
   "metadata": {},
   "source": [
    "6.1 Seperation Measures"
   ]
  },
  {
   "cell_type": "code",
   "execution_count": null,
   "metadata": {},
   "outputs": [],
   "source": [
    "# Calculate the Euclidean distance from ideal and anti-ideal solutions\n",
    "# WTF does Euclidean mean???\n",
    "# Not sure what this code does\n",
    "distance_to_ideal = np.sqrt(((df_normalized - ideal_solution) ** 2).sum(axis=1))\n",
    "distance_to_anti_ideal = np.sqrt(((df_normalized - anti_ideal_solution) ** 2).sum(axis=1))\n",
    "\n",
    "# Display the separation measures\n",
    "print(\"\\nDistance to Ideal Solution:\")\n",
    "print(distance_to_ideal)\n",
    "print(\"\\nDistance to Anti-Ideal Solution:\")\n",
    "print(distance_to_anti_ideal)"
   ]
  },
  {
   "cell_type": "markdown",
   "metadata": {},
   "source": [
    "7.1 Relative closeness to ideal"
   ]
  },
  {
   "cell_type": "code",
   "execution_count": null,
   "metadata": {},
   "outputs": [],
   "source": [
    "relative_closeness = distance_to_anti_ideal / (distance_to_ideal + distance_to_anti_ideal)\n",
    "\n",
    "# Display the relative closeness\n",
    "print(\"\\nRelative Closeness to Ideal Solution:\")\n",
    "print(relative_closeness)"
   ]
  },
  {
   "cell_type": "markdown",
   "metadata": {},
   "source": [
    "8.1 Rank exoplanets"
   ]
  },
  {
   "cell_type": "code",
   "execution_count": null,
   "metadata": {},
   "outputs": [],
   "source": [
    "# WE MIGHT NOT NEED THIS STEP\n",
    "# Add the relative closeness to the DataFrame\n",
    "df['Relative Closeness'] = relative_closeness\n",
    "\n",
    "# Rank the exoplanets based on relative closeness\n",
    "df['Rank'] = df['Relative Closeness'].rank(ascending=False)\n",
    "\n",
    "# Display the final ranking\n",
    "print(\"\\nFinal Ranking:\")\n",
    "print(df)"
   ]
  },
  {
   "cell_type": "markdown",
   "metadata": {},
   "source": [
    "2. FACTOR 1: Habitability Zone (HZ)"
   ]
  },
  {
   "cell_type": "markdown",
   "metadata": {},
   "source": [
    "2.1 Calculate Luminosity (L) of the star you're working with"
   ]
  },
  {
   "cell_type": "code",
   "execution_count": 13,
   "metadata": {},
   "outputs": [
    {
     "ename": "NameError",
     "evalue": "name 'M' is not defined",
     "output_type": "error",
     "traceback": [
      "\u001b[1;31m---------------------------------------------------------------------------\u001b[0m",
      "\u001b[1;31mNameError\u001b[0m                                 Traceback (most recent call last)",
      "Cell \u001b[1;32mIn[13], line 1\u001b[0m\n\u001b[1;32m----> 1\u001b[0m L \u001b[38;5;241m=\u001b[39m \u001b[43mM\u001b[49m\u001b[38;5;241m^\u001b[39m\u001b[38;5;241m3.5\u001b[39m\u001b[38;5;241m*\u001b[39m(\u001b[38;5;241m3.828\u001b[39m\u001b[38;5;241m*\u001b[39m\u001b[38;5;241m10\u001b[39m\u001b[38;5;241m^\u001b[39m\u001b[38;5;241m26\u001b[39m)\n\u001b[0;32m      2\u001b[0m L2 \u001b[38;5;241m=\u001b[39m M\u001b[38;5;241m^\u001b[39m\u001b[38;5;241m3.6\u001b[39m\n\u001b[0;32m      3\u001b[0m \u001b[38;5;66;03m# where:\u001b[39;00m\n\u001b[0;32m      4\u001b[0m         \u001b[38;5;66;03m# M = star mass compared to our sun. Also shown as Mo or Msun.\u001b[39;00m\n\u001b[0;32m      5\u001b[0m         \u001b[38;5;66;03m# 3.5 = relationship between L and M\u001b[39;00m\n\u001b[0;32m      6\u001b[0m         \u001b[38;5;66;03m# 3.828x10^26 = OUR solar luminosity. Also shown as Lo\u001b[39;00m\n",
      "\u001b[1;31mNameError\u001b[0m: name 'M' is not defined"
     ]
    }
   ],
   "source": [
    "L = M^3.5*(3.828*10^26)\n",
    "L2 = M^3.6\n",
    "# where:\n",
    "        # M = star mass compared to our sun. Also shown as Mo or Msun.\n",
    "        # 3.5 = relationship between L and M\n",
    "        # 3.828x10^26 = OUR solar luminosity. Also shown as Lo"
   ]
  },
  {
   "cell_type": "markdown",
   "metadata": {},
   "source": [
    "2.2 Calculate solar flux at inner and outer edges of supposed HZ"
   ]
  },
  {
   "cell_type": "code",
   "execution_count": null,
   "metadata": {},
   "outputs": [],
   "source": [
    "S_inner = 1.1*(Teff/5778)^-1.8\n",
    "S_outer = 0.53*(Teff/5778)^-0.5\n",
    "# where:\n",
    "        # 1.1 and 0.53 = scaling factors\n",
    "        # Teff = effective temperature of the Sun in question\n",
    "        # 5778 = effective temperature of OUR sun. Also shown as To == 5778 K\n",
    "        # -0.8 and -0.5 = relationship between Temperature dependence and flux (ie how one changes). \n",
    "            # Values used here are most common"
   ]
  },
  {
   "cell_type": "markdown",
   "metadata": {},
   "source": [
    "2.3 Calculate HZ boundaries by distance"
   ]
  },
  {
   "cell_type": "code",
   "execution_count": null,
   "metadata": {},
   "outputs": [],
   "source": [
    "d_inner = (L/(4*pi*S_inner))^0.5\n",
    "d_outer = (L/(4*pi*S_outer))^0.5\n",
    "# where:\n",
    "        # L has been calculated in section 2.1, in Watts\n",
    "        # S_inner and S_outer have been calculated in section 2.2, in Watts per M^2\n",
    "        # d_inner and d_outer are boundary distances from sun, in meters"
   ]
  },
  {
   "cell_type": "markdown",
   "metadata": {},
   "source": [
    "2.4 Calculate HZ boundaries by AU"
   ]
  },
  {
   "cell_type": "code",
   "execution_count": null,
   "metadata": {},
   "outputs": [],
   "source": [
    "d_inner_AU = d_inner/(1.496*10^11)\n",
    "d_outer_AU = d_outer/(1.496*10^11)"
   ]
  },
  {
   "cell_type": "markdown",
   "metadata": {},
   "source": [
    "2.5 Calculate ideal value: middle of HZ"
   ]
  },
  {
   "cell_type": "code",
   "execution_count": null,
   "metadata": {},
   "outputs": [],
   "source": [
    "d_ideal_AU = (d_inner + d_outer_AU)/2"
   ]
  },
  {
   "cell_type": "markdown",
   "metadata": {},
   "source": [
    "2.6 Calculate non-ideal values: normal distribution"
   ]
  },
  {
   "cell_type": "code",
   "execution_count": null,
   "metadata": {},
   "outputs": [],
   "source": [
    "# where:\n",
    "        # d_inner_AU == 1 sigma from d_ideal_AU\n",
    "        # d_outer_AU == 1 sigma from d_ideal_AU\n",
    "\n",
    "# take non ideal values to be 2 sigma from d_ideal_AU\n",
    "# maybe normalise at this point for make d_ideal_AU = 0 ?? IDK\n",
    "\n",
    "??"
   ]
  },
  {
   "cell_type": "markdown",
   "metadata": {},
   "source": [
    "2.7 Find if planet in question is within the HZ"
   ]
  },
  {
   "cell_type": "code",
   "execution_count": null,
   "metadata": {},
   "outputs": [],
   "source": [
    "if distance_AU < d_outer_AU AND distance_AU > d_inner_AU:\n",
    "    d_AU_from_ideal = |distance_AU - ideal_d_AU|\n",
    "# where:\n",
    "        # If within HZ, see how  far from ideal "
   ]
  },
  {
   "cell_type": "markdown",
   "metadata": {},
   "source": [
    "2.8 If not in the HZ, see how far"
   ]
  },
  {
   "cell_type": "code",
   "execution_count": null,
   "metadata": {},
   "outputs": [],
   "source": [
    "if distance_AU > d_outer_AU OR distance_AU < d_inner_AU:\n",
    "    d_AU_smallest = ?? # calculate which boundary is closest\n",
    "    d_AU_from_nonideal = |d_inner_AU OR d_outer_AU - distance_AU|\n",
    "# where:\n",
    "        # if NOT within HZ\n",
    "        # calculate which boundary is closest\n",
    "        # calculate how far it is from that boundary"
   ]
  },
  {
   "cell_type": "markdown",
   "metadata": {},
   "source": [
    "2.9 Normalise and incorporate into TOPSIS"
   ]
  },
  {
   "cell_type": "code",
   "execution_count": null,
   "metadata": {},
   "outputs": [],
   "source": [
    "# not sure how yet"
   ]
  },
  {
   "cell_type": "markdown",
   "metadata": {},
   "source": [
    "2.10 Ensure to show whether planet is in or out of HZ"
   ]
  },
  {
   "cell_type": "code",
   "execution_count": null,
   "metadata": {},
   "outputs": [],
   "source": [
    "# when TOPSIS is calculated:\n",
    "# print \"Planet X is within the habitability zone of its star\"\n",
    "# OR\n",
    "# print \"Planet X is outside its habitability zone by n AU\""
   ]
  },
  {
   "cell_type": "markdown",
   "metadata": {},
   "source": [
    "3. FACTOR 2: Calculate density"
   ]
  },
  {
   "cell_type": "markdown",
   "metadata": {},
   "source": [
    "3.1 Convert units from Mjup to Mear"
   ]
  },
  {
   "cell_type": "code",
   "execution_count": null,
   "metadata": {},
   "outputs": [],
   "source": [
    "Mjup/317.8 = Mear"
   ]
  },
  {
   "cell_type": "markdown",
   "metadata": {},
   "source": [
    "3.2 Convert units from Rjup to Rear"
   ]
  },
  {
   "cell_type": "code",
   "execution_count": null,
   "metadata": {},
   "outputs": [],
   "source": [
    "RJup/11.2 = Rear"
   ]
  },
  {
   "cell_type": "markdown",
   "metadata": {},
   "source": [
    "3.3 Calculate density"
   ]
  },
  {
   "cell_type": "code",
   "execution_count": null,
   "metadata": {},
   "outputs": [],
   "source": [
    "density_ear = Mear/((4/3)*pi*(Rear^3))"
   ]
  },
  {
   "cell_type": "markdown",
   "metadata": {},
   "source": [
    "4. Calculate Radiation intensity"
   ]
  },
  {
   "cell_type": "markdown",
   "metadata": {},
   "source": [
    "4.1 Convert distance from star to planet from parsec to AU\n",
    "!! check that youn't need to do this earlier!"
   ]
  },
  {
   "cell_type": "code",
   "execution_count": null,
   "metadata": {},
   "outputs": [],
   "source": [
    "distance_AU = distance_pc*206265"
   ]
  },
  {
   "cell_type": "markdown",
   "metadata": {},
   "source": [
    "4.1 Convert distance from star from parsec to METERS FOR THIS ONE"
   ]
  },
  {
   "cell_type": "markdown",
   "metadata": {},
   "source": [
    "4.2 Calculate radiation intensity"
   ]
  },
  {
   "cell_type": "code",
   "execution_count": null,
   "metadata": {},
   "outputs": [],
   "source": [
    "radiation_I = L/(4*pi*(radius^2))\n",
    "# where:\n",
    "        # I has units of W/m^2"
   ]
  },
  {
   "cell_type": "markdown",
   "metadata": {},
   "source": [
    "5. INDEX ITSELF"
   ]
  },
  {
   "cell_type": "markdown",
   "metadata": {},
   "source": [
    "The factors used include the following:\n",
    "- planet mass (Mjup)\n",
    "- planet radius (Rjup)\n",
    "- planet temperature (K)\n",
    "- planet density CALCULATE\n",
    "- radiation intensity (W/m^2) CALCULATE\n",
    "- star distance (pc)\n",
    "- AND/OR HZ measurement CALCULATE\n",
    "- star metallicity ?? fraction\n",
    "- star mass (Msun)\n",
    "- sun radius (Rsun)\n",
    "- star age ?? Gy\n",
    "- star effective temperature (K)\n"
   ]
  },
  {
   "cell_type": "markdown",
   "metadata": {},
   "source": [
    "The index will consist of the following:\n",
    "- planet mass +\n",
    "planet radius +\n",
    "planet temperature +\n",
    "star distance (HZ) + \n",
    "radiation intensity"
   ]
  },
  {
   "cell_type": "markdown",
   "metadata": {},
   "source": [
    "Weighing can be determined in 1 of 2 ways:\n",
    "- use a correlation regression as done in Cobb Douglas\n",
    "- use difference from \"ideal\" Earth on a normal distribution to determine the importance of outliers"
   ]
  },
  {
   "cell_type": "markdown",
   "metadata": {},
   "source": [
    "STEP 1: IMPORT DATASET"
   ]
  },
  {
   "cell_type": "code",
   "execution_count": 1,
   "metadata": {},
   "outputs": [],
   "source": [
    "# install packages\n",
    "import numpy as np\n",
    "import pandas as pd"
   ]
  },
  {
   "cell_type": "code",
   "execution_count": 2,
   "metadata": {},
   "outputs": [
    {
     "name": "stdout",
     "output_type": "stream",
     "text": [
      "         planet  planet_mass_mjup  planet_radius_rjup  temp_calculated_K  \\\n",
      "0  COCONUTS-2 b          6.400000            1.120000             434.00   \n",
      "1    HAT-P-18 b          0.183000            0.947000             841.00   \n",
      "2    HAT-P-42 b          0.975000            1.277000            1427.00   \n",
      "3   kappa And b         13.000000            1.200000            1850.00   \n",
      "4  TRAPPIST-1 b          0.002700            0.096890             451.55   \n",
      "5    WASP-189 b          1.990000            1.619000            3394.00   \n",
      "6         Earth          0.003146            0.089286             288.00   \n",
      "\n",
      "     star_name  star_distance_pc  star_metallicity  star_mass_msun  \\\n",
      "0  COCONUTS-2A         10.890000            0.0000           0.370   \n",
      "1     HAT-P-18        166.000000            0.1000           0.770   \n",
      "2     HAT-P-42        447.000000            0.2700           1.179   \n",
      "3    kappa And         50.000000           -0.3600           2.800   \n",
      "4   TRAPPIST-1         12.100000            0.0400           0.080   \n",
      "5     WASP-189         99.000000            0.0000           1.887   \n",
      "6          Sun          0.000005            0.0181           1.000   \n",
      "\n",
      "   star_radius_rsun  star_age_Gy  star_teff_K  \n",
      "0             0.388        0.475         3406  \n",
      "1             0.717       12.400         4870  \n",
      "2             1.528        5.100         5743  \n",
      "3             2.290        0.047        11361  \n",
      "4             0.117        7.600         2560  \n",
      "5             2.330        0.855         7996  \n",
      "6             1.000        4.600         5778  \n"
     ]
    }
   ],
   "source": [
    "# import dataset\n",
    "data = pd.read_csv('C:/Users/21sko/Desktop/dissertation/data/exo_data.csv')\n",
    "\n",
    "# display data\n",
    "# print(data.head())\n",
    "print(data)"
   ]
  },
  {
   "cell_type": "markdown",
   "metadata": {},
   "source": [
    "STEP 2: CALCULATE EXOPLANET DENSITY"
   ]
  },
  {
   "cell_type": "code",
   "execution_count": null,
   "metadata": {},
   "outputs": [],
   "source": [
    "# CONVERT Mjup to Mearth\n",
    "\n",
    "import pandas as pd\n",
    "import numpy as np\n",
    "import math \n",
    "from math import pi\n",
    "\n",
    "def mjup_to_mearth(planet_mass_mjup):\n",
    "    mass_mearth = planet_mass_mjup * 317.8 \n",
    "\n",
    "    return mass_mearth\n",
    "\n",
    "data['planet_mass_mearth'] = data.apply(lambda row: mjup_to_mearth(row['planet_mass_mjup']), axis = 1)\n",
    "\n",
    "print(data)"
   ]
  },
  {
   "cell_type": "code",
   "execution_count": null,
   "metadata": {},
   "outputs": [],
   "source": [
    "# CONVERT Rjup to Eearth\n",
    "\n",
    "import pandas as pd\n",
    "import numpy as np\n",
    "import math \n",
    "from math import pi\n",
    "\n",
    "def rjup_to_rearth(planet_radius_rjup):\n",
    "    radius_rearth = planet_radius_rjup * 11.2\n",
    "\n",
    "    return radius_rearth\n",
    "\n",
    "data['planet_radius_rearth'] = data.apply(lambda row: rjup_to_rearth(row['planet_radius_rjup']), axis = 1)\n",
    "\n",
    "print(data)"
   ]
  },
  {
   "cell_type": "code",
   "execution_count": null,
   "metadata": {},
   "outputs": [],
   "source": [
    "# CALCULATE PLANET VOLUME USING Rearth\n",
    "\n",
    "import pandas as pd\n",
    "import numpy as np\n",
    "import math \n",
    "from math import pi\n",
    "\n",
    "\n",
    "def volume_formula(planet_radius_rearth):\n",
    "\n",
    "    volume = (4/3) * np.pi * (planet_radius_rearth ** 3)\n",
    "\n",
    "    return volume\n",
    "\n",
    "\n",
    "data['planet_volume_rearth'] = data.apply(lambda row: volume_formula(row['planet_radius_rearth']), axis = 1)\n",
    "\n",
    "print(data)"
   ]
  },
  {
   "cell_type": "code",
   "execution_count": null,
   "metadata": {},
   "outputs": [],
   "source": [
    "# DEFINE AND CALCULATE DENSITY !!! COMPARED TO EARTH !!! \n",
    "\n",
    "def density_formula(planet_mass_mearth, planet_volume_rearth):\n",
    "    \n",
    "\n",
    "    density = (planet_mass_mearth) / (planet_volume_rearth)\n",
    "    \n",
    "    return density\n",
    "\n",
    "\n",
    "data['planet_density'] = data.apply(lambda row: density_formula(row['planet_mass_mearth'], row['planet_radius_rearth']), axis = 1)\n",
    "\n",
    "print(data)"
   ]
  },
  {
   "cell_type": "code",
   "execution_count": null,
   "metadata": {},
   "outputs": [],
   "source": [
    "# import pandas as pd\n",
    "# import numpy as np\n",
    "# import math \n",
    "# from math import pi\n",
    "\n",
    "# def density_formula(planet_mass_mjup, planet_radius_rjup):\n",
    "#    mjup_to_mearth = 317.8\n",
    "#    rjup_to_rearth = 11.2\n",
    "#\n",
    "#    Mjup_mass = 0.003146\n",
    "#    RJup_radius = 0.0181\n",
    "#\n",
    "#    Mearth_mass = Mjup_mass * mjup_to_mearth\n",
    "#    Rearth_radius = RJup_radius * rjup_to_rearth\n",
    "#\n",
    "#    density = (Mearth_mass) / (((4/3) * np.pi * ((Rearth_radius) ** 3)))\n",
    "#    \n",
    "#    return density\n",
    "\n",
    "\n",
    "#data['planet_density'] = data.apply(lambda row: density_formula(row['planet_mass_mjup'], row['planet_radius_rjup']), axis = 1)\n",
    "\n",
    "#print(data)"
   ]
  },
  {
   "cell_type": "markdown",
   "metadata": {},
   "source": [
    "STEP 3: CALCULATE HZ BOUNDARIES"
   ]
  },
  {
   "cell_type": "code",
   "execution_count": null,
   "metadata": {},
   "outputs": [],
   "source": [
    "print(data)"
   ]
  },
  {
   "cell_type": "code",
   "execution_count": 14,
   "metadata": {},
   "outputs": [
    {
     "name": "stdout",
     "output_type": "stream",
     "text": [
      "         planet  planet_mass_mjup  planet_radius_rjup  temp_calculated_K  \\\n",
      "0  COCONUTS-2 b          6.400000            1.120000             434.00   \n",
      "1    HAT-P-18 b          0.183000            0.947000             841.00   \n",
      "2    HAT-P-42 b          0.975000            1.277000            1427.00   \n",
      "3   kappa And b         13.000000            1.200000            1850.00   \n",
      "4  TRAPPIST-1 b          0.002700            0.096890             451.55   \n",
      "5    WASP-189 b          1.990000            1.619000            3394.00   \n",
      "6         Earth          0.003146            0.089286             288.00   \n",
      "\n",
      "     star_name  star_distance_pc  star_metallicity  star_mass_msun  \\\n",
      "0  COCONUTS-2A         10.890000            0.0000           0.370   \n",
      "1     HAT-P-18        166.000000            0.1000           0.770   \n",
      "2     HAT-P-42        447.000000            0.2700           1.179   \n",
      "3    kappa And         50.000000           -0.3600           2.800   \n",
      "4   TRAPPIST-1         12.100000            0.0400           0.080   \n",
      "5     WASP-189         99.000000            0.0000           1.887   \n",
      "6          Sun          0.000005            0.0181           1.000   \n",
      "\n",
      "   star_radius_rsun  star_age_Gy  star_teff_K  star_luminosity_W  flux_UB_wm2  \\\n",
      "0             0.388        0.475         3406           0.030811     0.000656   \n",
      "1             0.717       12.400         4870           0.400606     0.000345   \n",
      "2             1.528        5.100         5743           1.779501     0.000256   \n",
      "3             2.290        0.047        11361          36.732722     0.000075   \n",
      "4             0.117        7.600         2560           0.000145     0.001098   \n",
      "5             2.330        0.855         7996           9.229999     0.000141   \n",
      "6             1.000        4.600         5778           1.000000     0.000254   \n",
      "\n",
      "   flux_LB_wm2    HZ_UB_am  HZ_LB_au  S_inner  S_outer   R_inner    R_outer  \n",
      "0    12.359807    9.688639  0.070609    1.296    0.234  0.154188   0.362865  \n",
      "1    10.336405   48.197491  0.278413    1.296    0.234  0.555976   1.308431  \n",
      "2     9.518414  117.832119  0.611479    1.296    0.234  1.171782   2.757663  \n",
      "3     6.767460  989.215816  3.294797    1.296    0.234  5.323828  12.529064  \n",
      "4    14.256536    0.513704  0.004507    1.296    0.234  0.010571   0.024877  \n",
      "5     8.066732  361.473051  1.512750    1.296    0.234  2.668691   6.280481  \n",
      "6     9.489541   88.815625  0.459084    1.296    0.234  0.878410   2.067246  \n"
     ]
    }
   ],
   "source": [
    "# CALCULATE STAR LUMINOSITY\n",
    "import pandas as pd\n",
    "import numpy as np\n",
    "import math \n",
    "from math import pi\n",
    "\n",
    "# def Mstar_to_kg(star_mass_msun):\n",
    "#    star_mass_kg = star_mass_msun*(1.989e30)\n",
    "#\n",
    "#    return star_mass_kg\n",
    "\n",
    "# data['star_mass_kg'] = data['star_mass_msun'].apply(Mstar_to_kg) \n",
    "\n",
    "\n",
    "def luminosity_formula(star_mass_msun):\n",
    "    luminosity = (star_mass_msun ** 3.5) #* (3.828e26)\n",
    "    \n",
    "    return luminosity\n",
    "\n",
    "\n",
    "data['star_luminosity_W'] = data['star_mass_msun'].apply(luminosity_formula) \n",
    "\n",
    "print(data)\n",
    "\n",
    "def luminosity_formula2(star_mass_msun):\n",
    "    luminosity = (star_mass_msun ** 3.6) \n",
    "    \n",
    "    return luminosity\n",
    "data['star_luminosity_W2'] = data['star_mass_msun'].apply(luminosity_formula2) "
   ]
  },
  {
   "cell_type": "code",
   "execution_count": 4,
   "metadata": {},
   "outputs": [
    {
     "name": "stdout",
     "output_type": "stream",
     "text": [
      "         planet  planet_mass_mjup  planet_radius_rjup  temp_calculated_K  \\\n",
      "0  COCONUTS-2 b          6.400000            1.120000             434.00   \n",
      "1    HAT-P-18 b          0.183000            0.947000             841.00   \n",
      "2    HAT-P-42 b          0.975000            1.277000            1427.00   \n",
      "3   kappa And b         13.000000            1.200000            1850.00   \n",
      "4  TRAPPIST-1 b          0.002700            0.096890             451.55   \n",
      "5    WASP-189 b          1.990000            1.619000            3394.00   \n",
      "6         Earth          0.003146            0.089286             288.00   \n",
      "\n",
      "     star_name  star_distance_pc  star_metallicity  star_mass_msun  \\\n",
      "0  COCONUTS-2A         10.890000            0.0000           0.370   \n",
      "1     HAT-P-18        166.000000            0.1000           0.770   \n",
      "2     HAT-P-42        447.000000            0.2700           1.179   \n",
      "3    kappa And         50.000000           -0.3600           2.800   \n",
      "4   TRAPPIST-1         12.100000            0.0400           0.080   \n",
      "5     WASP-189         99.000000            0.0000           1.887   \n",
      "6          Sun          0.000005            0.0181           1.000   \n",
      "\n",
      "   star_radius_rsun  star_age_Gy  star_teff_K  star_luminosity_W  flux_UB_wm2  \n",
      "0             0.388        0.475         3406           0.030811     0.000656  \n",
      "1             0.717       12.400         4870           0.400606     0.000345  \n",
      "2             1.528        5.100         5743           1.779501     0.000256  \n",
      "3             2.290        0.047        11361          36.732722     0.000075  \n",
      "4             0.117        7.600         2560           0.000145     0.001098  \n",
      "5             2.330        0.855         7996           9.229999     0.000141  \n",
      "6             1.000        4.600         5778           1.000000     0.000254  \n",
      "         planet  planet_mass_mjup  planet_radius_rjup  temp_calculated_K  \\\n",
      "0  COCONUTS-2 b          6.400000            1.120000             434.00   \n",
      "1    HAT-P-18 b          0.183000            0.947000             841.00   \n",
      "2    HAT-P-42 b          0.975000            1.277000            1427.00   \n",
      "3   kappa And b         13.000000            1.200000            1850.00   \n",
      "4  TRAPPIST-1 b          0.002700            0.096890             451.55   \n",
      "5    WASP-189 b          1.990000            1.619000            3394.00   \n",
      "6         Earth          0.003146            0.089286             288.00   \n",
      "\n",
      "     star_name  star_distance_pc  star_metallicity  star_mass_msun  \\\n",
      "0  COCONUTS-2A         10.890000            0.0000           0.370   \n",
      "1     HAT-P-18        166.000000            0.1000           0.770   \n",
      "2     HAT-P-42        447.000000            0.2700           1.179   \n",
      "3    kappa And         50.000000           -0.3600           2.800   \n",
      "4   TRAPPIST-1         12.100000            0.0400           0.080   \n",
      "5     WASP-189         99.000000            0.0000           1.887   \n",
      "6          Sun          0.000005            0.0181           1.000   \n",
      "\n",
      "   star_radius_rsun  star_age_Gy  star_teff_K  star_luminosity_W  flux_UB_wm2  \\\n",
      "0             0.388        0.475         3406           0.030811     0.000656   \n",
      "1             0.717       12.400         4870           0.400606     0.000345   \n",
      "2             1.528        5.100         5743           1.779501     0.000256   \n",
      "3             2.290        0.047        11361          36.732722     0.000075   \n",
      "4             0.117        7.600         2560           0.000145     0.001098   \n",
      "5             2.330        0.855         7996           9.229999     0.000141   \n",
      "6             1.000        4.600         5778           1.000000     0.000254   \n",
      "\n",
      "   flux_LB_wm2  \n",
      "0    12.359807  \n",
      "1    10.336405  \n",
      "2     9.518414  \n",
      "3     6.767460  \n",
      "4    14.256536  \n",
      "5     8.066732  \n",
      "6     9.489541  \n"
     ]
    }
   ],
   "source": [
    "# CALCULATE SOLAR FLUX BOUNDARY UNITS\n",
    "# ??????? CHECK PAPERS CALCULATING HZ FOR SOLAR SYSTEM AND SUBSTITUTE THESE INTO 1.7 AND 0.75\n",
    "\n",
    "def flux_UB_formula(star_teff_K):\n",
    "    flux_UB = 1.1*(star_teff_K)**-1.8\n",
    "\n",
    "    return flux_UB * 1361\n",
    "\n",
    "data['flux_UB_wm2'] = data['star_teff_K'].apply(flux_UB_formula) \n",
    "\n",
    "print(data)\n",
    "\n",
    "\n",
    "\n",
    "def flux_LB_formula(star_teff_K):\n",
    "    flux_LB = 0.53*(star_teff_K)**-0.5\n",
    "\n",
    "    return flux_LB * 1361\n",
    "\n",
    "data['flux_LB_wm2'] = data['star_teff_K'].apply(flux_LB_formula) \n",
    "\n",
    "print(data)"
   ]
  },
  {
   "cell_type": "code",
   "execution_count": null,
   "metadata": {},
   "outputs": [],
   "source": [
    "# CONVERT AU TO m\n",
    "\n",
    "def AU_to_m(flux_B_au):\n",
    "    flux_B_m = flux_B_au * 1.496e11  \n",
    "    \n",
    "    return flux_B_m\n",
    "\n",
    "\n",
    "data['flux_LB_m'] = data['flux_LB_au'].apply(AU_to_m) \n",
    "data['flux_UB_m'] = data['flux_UB_au'].apply(AU_to_m) \n",
    "print(data)"
   ]
  },
  {
   "cell_type": "code",
   "execution_count": 5,
   "metadata": {},
   "outputs": [
    {
     "name": "stdout",
     "output_type": "stream",
     "text": [
      "         planet  planet_mass_mjup  planet_radius_rjup  temp_calculated_K  \\\n",
      "0  COCONUTS-2 b          6.400000            1.120000             434.00   \n",
      "1    HAT-P-18 b          0.183000            0.947000             841.00   \n",
      "2    HAT-P-42 b          0.975000            1.277000            1427.00   \n",
      "3   kappa And b         13.000000            1.200000            1850.00   \n",
      "4  TRAPPIST-1 b          0.002700            0.096890             451.55   \n",
      "5    WASP-189 b          1.990000            1.619000            3394.00   \n",
      "6         Earth          0.003146            0.089286             288.00   \n",
      "\n",
      "     star_name  star_distance_pc  star_metallicity  star_mass_msun  \\\n",
      "0  COCONUTS-2A         10.890000            0.0000           0.370   \n",
      "1     HAT-P-18        166.000000            0.1000           0.770   \n",
      "2     HAT-P-42        447.000000            0.2700           1.179   \n",
      "3    kappa And         50.000000           -0.3600           2.800   \n",
      "4   TRAPPIST-1         12.100000            0.0400           0.080   \n",
      "5     WASP-189         99.000000            0.0000           1.887   \n",
      "6          Sun          0.000005            0.0181           1.000   \n",
      "\n",
      "   star_radius_rsun  star_age_Gy  star_teff_K  star_luminosity_W  flux_UB_wm2  \\\n",
      "0             0.388        0.475         3406           0.030811     0.000656   \n",
      "1             0.717       12.400         4870           0.400606     0.000345   \n",
      "2             1.528        5.100         5743           1.779501     0.000256   \n",
      "3             2.290        0.047        11361          36.732722     0.000075   \n",
      "4             0.117        7.600         2560           0.000145     0.001098   \n",
      "5             2.330        0.855         7996           9.229999     0.000141   \n",
      "6             1.000        4.600         5778           1.000000     0.000254   \n",
      "\n",
      "   flux_LB_wm2    HZ_UB_am  HZ_LB_au  \n",
      "0    12.359807    9.688639  0.070609  \n",
      "1    10.336405   48.197491  0.278413  \n",
      "2     9.518414  117.832119  0.611479  \n",
      "3     6.767460  989.215816  3.294797  \n",
      "4    14.256536    0.513704  0.004507  \n",
      "5     8.066732  361.473051  1.512750  \n",
      "6     9.489541   88.815625  0.459084  \n"
     ]
    }
   ],
   "source": [
    "# CALCULATE HZ BOUNDARIES IN m\n",
    "# import pandas as pd\n",
    "# import numpy as np\n",
    "# import math \n",
    "# from math import pi\n",
    "\n",
    "\n",
    "def HZ_UB_formula(star_luminosity_W, flux_UB_m):\n",
    "    #HZ_UB_m = star_luminosity_W / ((4 * np.pi * flux_UB_m)**1.5)\n",
    "    HZ_UB_au = np.sqrt((2*star_luminosity_W)/flux_UB_m)\n",
    "\n",
    "    return HZ_UB_au\n",
    "\n",
    "data['HZ_UB_am'] = data.apply(lambda row: HZ_UB_formula(row['star_luminosity_W'], row['flux_UB_wm2']), axis = 1)\n",
    "\n",
    "def HZ_LB_formula(star_luminosity_W, flux_LB_m):\n",
    "    #HZ_LB_m = star_luminosity_W / ((4 * np.pi * flux_LB_m)**1.5)\n",
    "    HZ_LB_au = np.sqrt((2*star_luminosity_W)/flux_LB_m)\n",
    "\n",
    "    return HZ_LB_au\n",
    "\n",
    "data['HZ_LB_au'] = data.apply(lambda row: HZ_LB_formula(row['star_luminosity_W'], row['flux_LB_wm2']), axis = 1)\n",
    "\n",
    "\n",
    "print(data)"
   ]
  },
  {
   "cell_type": "code",
   "execution_count": null,
   "metadata": {},
   "outputs": [],
   "source": [
    "# CONVERT FROM m TO AU\n",
    "\n",
    "def m_to_AU(HZ_B_m):\n",
    "    HZ_B_au = HZ_B_m / 1.496e11\n",
    "    \n",
    "    return HZ_B_au\n",
    "\n",
    "\n",
    "data['HZ_UB_au'] = data['HZ_UB_m'].apply(m_to_AU) \n",
    "data['HZ_LB_au'] = data['HZ_LB_m'].apply(m_to_AU) \n",
    "print(data)\n",
    "\n",
    " "
   ]
  },
  {
   "cell_type": "code",
   "execution_count": null,
   "metadata": {},
   "outputs": [],
   "source": [
    "# CALCULATE HZ BOUNDARIES IN AU\n",
    "# import pandas as pd\n",
    "# import numpy as np\n",
    "# import math \n",
    "# from math import pi\n",
    "\n",
    "\n",
    "def HZ_UB_formula(star_luminosity_W, flux_UB_au):\n",
    "    HZ_UB = star_luminosity_W / ((4 * np.pi * flux_UB_au)**1.5)\n",
    "\n",
    "    return HZ_UB\n",
    "\n",
    "data['HZ_UB'] = data.apply(lambda row: HZ_UB_formula(row['star_luminosity_W'], row['flux_UB_au']), axis = 1)\n",
    "\n",
    "print(data)\n",
    "# def HZ_LB_formula(star_luminosity_W, flux_LB_m):\n",
    "#    HZ_LB_m = star_luminosity_W / ((4 * np.pi * flux_LB_m)**1.5)\n",
    "#\n",
    "#    return HZ_LB_m\n",
    "\n",
    "# data['HZ_LB_m'] = data.apply(lambda row: HZ_LB_formula(row['star_luminosity_W'], row['flux_LB_m']), axis = 1)\n",
    "\n",
    "\n",
    "# print(data)"
   ]
  },
  {
   "cell_type": "markdown",
   "metadata": {},
   "source": [
    "CALCULATE HZ BOUNDARIES A DIFFERENT WAY"
   ]
  },
  {
   "cell_type": "code",
   "execution_count": 15,
   "metadata": {},
   "outputs": [
    {
     "name": "stdout",
     "output_type": "stream",
     "text": [
      "         planet  planet_mass_mjup  planet_radius_rjup  temp_calculated_K  \\\n",
      "0  COCONUTS-2 b          6.400000            1.120000             434.00   \n",
      "1    HAT-P-18 b          0.183000            0.947000             841.00   \n",
      "2    HAT-P-42 b          0.975000            1.277000            1427.00   \n",
      "3   kappa And b         13.000000            1.200000            1850.00   \n",
      "4  TRAPPIST-1 b          0.002700            0.096890             451.55   \n",
      "5    WASP-189 b          1.990000            1.619000            3394.00   \n",
      "6         Earth          0.003146            0.089286             288.00   \n",
      "\n",
      "     star_name  star_distance_pc  star_metallicity  star_mass_msun  \\\n",
      "0  COCONUTS-2A         10.890000            0.0000           0.370   \n",
      "1     HAT-P-18        166.000000            0.1000           0.770   \n",
      "2     HAT-P-42        447.000000            0.2700           1.179   \n",
      "3    kappa And         50.000000           -0.3600           2.800   \n",
      "4   TRAPPIST-1         12.100000            0.0400           0.080   \n",
      "5     WASP-189         99.000000            0.0000           1.887   \n",
      "6          Sun          0.000005            0.0181           1.000   \n",
      "\n",
      "   star_radius_rsun  star_age_Gy  ...  star_luminosity_W  flux_UB_wm2  \\\n",
      "0             0.388        0.475  ...           0.030811     0.000656   \n",
      "1             0.717       12.400  ...           0.400606     0.000345   \n",
      "2             1.528        5.100  ...           1.779501     0.000256   \n",
      "3             2.290        0.047  ...          36.732722     0.000075   \n",
      "4             0.117        7.600  ...           0.000145     0.001098   \n",
      "5             2.330        0.855  ...           9.229999     0.000141   \n",
      "6             1.000        4.600  ...           1.000000     0.000254   \n",
      "\n",
      "   flux_LB_wm2    HZ_UB_am  HZ_LB_au  S_inner  S_outer   R_inner    R_outer  \\\n",
      "0    12.359807    9.688639  0.070609    1.296    0.234  0.146710   0.345267   \n",
      "1    10.336405   48.197491  0.278413    1.296    0.234  0.548758   1.291443   \n",
      "2     9.518414  117.832119  0.611479    1.296    0.234  1.181469   2.780462   \n",
      "3     6.767460  989.215816  3.294797    1.296    0.234  5.605082  13.190964   \n",
      "4    14.256536    0.513704  0.004507    1.296    0.234  0.009317   0.021926   \n",
      "5     8.066732  361.473051  1.512750    1.296    0.234  2.754780   6.483082   \n",
      "6     9.489541   88.815625  0.459084    1.296    0.234  0.878410   2.067246   \n",
      "\n",
      "   star_luminosity_W2  \n",
      "0            0.027895  \n",
      "1            0.390271  \n",
      "2            1.809046  \n",
      "3           40.716357  \n",
      "4            0.000112  \n",
      "5            9.835101  \n",
      "6            1.000000  \n",
      "\n",
      "[7 rows x 21 columns]\n"
     ]
    }
   ],
   "source": [
    "def s_inner(Teff):\n",
    "    s_inner = 1.296 - 2.139e10**-4 * Teff + 4.19e10**-8 * (Teff)**2\n",
    "\n",
    "    return s_inner\n",
    "\n",
    "data['S_inner'] = data['star_teff_K'].apply(s_inner) \n",
    "\n",
    "\n",
    "\n",
    "\n",
    "def s_outer(Teff):\n",
    "    s_outer = 0.234 - 1.319e10**-5 * Teff + 6.19e10**-10 * (Teff)**2\n",
    "\n",
    "    return s_outer\n",
    "\n",
    "data['S_outer'] = data['star_teff_K'].apply(s_outer) \n",
    "\n",
    "\n",
    "\n",
    "\n",
    "def r_inner(Luminosity, S_inner):\n",
    "    r_inner = np.sqrt(Luminosity / S_inner)\n",
    "\n",
    "    return r_inner\n",
    "\n",
    "data['R_inner'] = data.apply(lambda row: r_inner(row['star_luminosity_W2'], row['S_inner']), axis = 1)\n",
    "\n",
    "\n",
    "\n",
    "def r_outer(Luminosity, S_outer):\n",
    "    r_outer = np.sqrt(Luminosity / S_outer)\n",
    "\n",
    "    return r_outer\n",
    "\n",
    "data['R_outer'] = data.apply(lambda row: r_outer(row['star_luminosity_W2'], row['S_outer']), axis = 1)\n",
    "\n",
    "print(data)"
   ]
  },
  {
   "cell_type": "markdown",
   "metadata": {},
   "source": [
    "CALCULATE HZ BOUNDARIES SIMPLER"
   ]
  },
  {
   "cell_type": "code",
   "execution_count": null,
   "metadata": {},
   "outputs": [],
   "source": [
    "import pandas as pd \n",
    "import numpy as np\n",
    "\n",
    "# Load the dataset \n",
    "file_path = 'C:/Users/21sko/Desktop/dissertation/data/exo_data.csv' \n",
    " \n",
    "stars_data = pd.read_csv(file_path) \n",
    "\n",
    "# Function to convert mass to luminosity \n",
    "def mass_to_luminosity(mass):\n",
    "    return mass ** 3.5\n",
    "\n",
    "# Function to calculate habitable zone boundaries \n",
    "def calculate_habitable_zone(luminosity):\n",
    "    inner_boundary = np.sqrt(luminosity / 1.1)\n",
    "    outer_boundary = np.sqrt(luminosity / 0.53)\n",
    "    return inner_boundary, outer_boundary \n",
    "\n",
    "# Convert mass to luminosity \n",
    "stars_data['Luminosity (Lsun)'] = stars_data['star_mass_msun'].apply(mass_to_luminosity) \n",
    "\n",
    "# Calculate HZ boundaries and add them to the dataframe \n",
    "stars_data[['HZ Inner Boundary (AU)', 'HZ Outer Boundary (AU)']] = stars_data['Luminosity (Lsun)'].apply( lambda luminosity: calculate_habitable_zone(luminosity) ).apply(pd.Series)\n",
    "\n",
    "# Display the updated dataset to the user in a Jupyter-friendly format \n",
    "print(stars_data)"
   ]
  }
 ],
 "metadata": {
  "kernelspec": {
   "display_name": "sciEnv",
   "language": "python",
   "name": "python3"
  },
  "language_info": {
   "codemirror_mode": {
    "name": "ipython",
    "version": 3
   },
   "file_extension": ".py",
   "mimetype": "text/x-python",
   "name": "python",
   "nbconvert_exporter": "python",
   "pygments_lexer": "ipython3",
   "version": "3.11.8"
  }
 },
 "nbformat": 4,
 "nbformat_minor": 2
}
